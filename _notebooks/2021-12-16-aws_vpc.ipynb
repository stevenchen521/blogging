{
 "cells": [
  {
   "cell_type": "markdown",
   "id": "b9603489-e5dc-4d85-84f3-2425d1441775",
   "metadata": {
    "tags": []
   },
   "source": [
    "# AWS VPC Exercise\n",
    "> I am recently starting to learn AWS. In this blog I'm gonna share how to build VPC step by step.\n",
    "\n",
    "- toc: true\n",
    "- comments: true\n",
    "- branch: master\n",
    "- badges: false\n",
    "- categories: [AWS]\n",
    "- image: images/aws-vpc.png\n"
   ]
  },
  {
   "cell_type": "markdown",
   "id": "e679369c-590a-481b-ac89-2197d0ecc56e",
   "metadata": {},
   "source": [
    "# Overview\n",
    "\n",
    "The following chart shows the VPC architecture we will build in this exercise\n",
    "![image.png](2021-12-16-aws_vpc/aws-vpc.png)"
   ]
  },
  {
   "cell_type": "markdown",
   "id": "c8a13cdc-3cdf-464a-abbc-cf4223239c6c",
   "metadata": {},
   "source": [
    "## Prerequisite\n",
    "The resource is from the [freeCodeCamp.org](https://www.youtube.com/watch?v=g2JOHLHh4rI) presented by [digitalcloud.training]( https://digitalcloud.training). Neal did a quite good job I encourage you to watch the original video and do the exercise by yourself. Here I only logged the steps what I have done.\n",
    "- Create a free [AWS Account](https://aws.amazon.com/).\n",
    "- Download the [exercise code](https://digitalcloud.training/aws-vpc-deep-dive-download/)\n",
    "- Install AWS Cli and config the [aws configure](https://docs.aws.amazon.com/cli/latest/userguide/cli-chap-configure.html)"
   ]
  },
  {
   "cell_type": "markdown",
   "id": "10e7912a-d620-4bd1-bfbf-5b31fe62fc60",
   "metadata": {},
   "source": [
    "## VPC Review\n",
    "\n",
    "### VPC Components\n",
    "\n",
    "- **Virtual Private Cloud (VPC)**: A logically isolated virtual network in the AWS cloud  \n",
    "- **Subnet**: A segment of a VPC's IP address range where you can place groups of isolated resources  \n",
    "- **Internet Gateway/Egress only Internet Gateway**: The Amazon VPC side of a connection to the public Internet for IPv4/IPv6  \n",
    "- **Router**: Routers interconnect subnets and direct traffic between Internet gateways, virtual private gateways, NAT gateways, and subnets  \n",
    "- **Peering Connection**: Direct connection between two VPCs  \n",
    "- **VPC Endpoints**: Private connection to public AWS services  \n",
    "- **NAT Instance**: Enables Internet access for EC2 instances in private subnets (managed by you)  \n",
    "- **NAT Gateway**: Enables Internet access for EC2 instances in private subnets (managed by AWS)  \n",
    "- **Virtual Private Gateway**: The Amazon VPC side of a Virtual Private Network (VPN) connection  \n",
    "- **Customer Gateway**: Customer side of a VPN connection  \n",
    "- **AWS Direct Connect**: High speed, high bandwidth, private network connection from customer to aws  \n",
    "- **Security Group**: Instance-level firewall  \n",
    "- **Network ACL**: Subnet-level firewall  \n",
    "\n",
    "### Amazon VPC Core Knowledge\n",
    "- [Difference between Internet Gateway and NAT Gateway](https://medium.com/awesome-cloud/aws-vpc-difference-between-internet-gateway-and-nat-gateway-c9177e710af6)\n",
    "- A virtual private cloud (VPC) is a virtual network dedicated to your AWS account\n",
    "- Analogous to having your own data center inside AWS\n",
    "- It is logically isolated from other virtual networks in the AWS Cloud\n",
    "- Provides complete control over the virtual networking environment including selection of IP    ranges, creation of subnets, and configuration of route tables and gateways\n",
    "- You can launch your AWS resources, such as Amazon EC2 instances, into\n",
    "  your VPC\n",
    "- When you create a VPC, you must specify a range of IPv4\n",
    "addresses for the VPC in the form of a Classless Inter-Domain\n",
    "Routing (CIDR) block; for example, 10.0.0.0/16\n",
    "- A VPC spans all the Availability Zones in the region\n",
    "- You have full control over who has access to the AWS resources\n",
    "inside your VPC\n",
    "- By default you can create up to 5 VPCs per region\n",
    "- A default VPC is created in each region with a subnet in each AZ"
   ]
  },
  {
   "cell_type": "markdown",
   "id": "d59e95c7-a533-4fb7-aef1-0e220d182495",
   "metadata": {
    "tags": []
   },
   "source": [
    "## Create VPC\n",
    "\n",
    "Name: MyVPC  \n",
    "IPv4 CIDR Block: 10.0.0.0/16  \n",
    "\n",
    "![image.png](2021-12-16-aws_vpc/att_00000.png)"
   ]
  },
  {
   "cell_type": "markdown",
   "id": "407044e6-40cd-4d48-97e5-05a0f7d83efd",
   "metadata": {
    "tags": []
   },
   "source": [
    "A route table was also created automatically by AWS.  \n",
    "![image.png](2021-12-16-aws_vpc/att_00001.png)"
   ]
  },
  {
   "cell_type": "markdown",
   "id": "94a0b187-fcf2-4be8-bad5-d0866761ba1d",
   "metadata": {
    "tags": []
   },
   "source": [
    "## Create Subnets\n",
    "\n",
    "Name: **Public-1A**  \n",
    "Availability Zone: **us-east-1a**  \n",
    "IPv4 CIDR Block: **10.0.1.0/24**  \n",
    "![image.png](2021-12-16-aws_vpc/att_00003.png)"
   ]
  },
  {
   "cell_type": "markdown",
   "id": "dda80b45-332f-4c05-b3bc-8a9c833a7aa7",
   "metadata": {
    "tags": []
   },
   "source": [
    "Name: **Public-1B**  \n",
    "Availability Zone: **us-east-1b**  \n",
    "IPv4 CIDR Block: **10.0.2.0/24**  \n",
    "![image.png](2021-12-16-aws_vpc/att_00004.png)"
   ]
  },
  {
   "cell_type": "markdown",
   "id": "78510098-5ff8-49b2-ae1c-5fc6a94a8031",
   "metadata": {
    "tags": []
   },
   "source": [
    "Name: **Private-1A**  \n",
    "Availability Zone: **us-east-1a**  \n",
    "IPv4 CIDR Block: **10.0.3.0/24**  \n",
    "![image.png](2021-12-16-aws_vpc/att_00005.png)"
   ]
  },
  {
   "cell_type": "markdown",
   "id": "42057eb0-19a4-4798-822b-ac9c73af1520",
   "metadata": {
    "tags": []
   },
   "source": [
    "Name: **Private-1B**  \n",
    "Availability Zone: **us-east-1b**  \n",
    "IPv4 CIDR Block: **10.0.4.0/24**  \n",
    "![image.png](2021-12-16-aws_vpc/att_00005.png)"
   ]
  },
  {
   "cell_type": "markdown",
   "id": "a458035d-6242-4454-9480-a233344a985c",
   "metadata": {
    "tags": []
   },
   "source": [
    "Finally, they look like this.  \n",
    "![image.png](2021-12-16-aws_vpc/att_00006.png)"
   ]
  },
  {
   "cell_type": "markdown",
   "id": "6ae6473c-cd03-4a59-a5af-45160bf5d0f8",
   "metadata": {
    "tags": []
   },
   "source": [
    "For the public subnets, we tick **'Enable auto-assign public IPv4 address'**.  \n",
    "![image.png](2021-12-16-aws_vpc/att_00007.png)"
   ]
  },
  {
   "cell_type": "markdown",
   "id": "1ace384c-c08b-42ad-954e-8ff9ae4c8737",
   "metadata": {
    "tags": []
   },
   "source": [
    "![image.png](2021-12-16-aws_vpc/att_00008.png)"
   ]
  },
  {
   "cell_type": "markdown",
   "id": "d1af7adb-3121-4528-9eb4-fdbd3424fc08",
   "metadata": {
    "tags": []
   },
   "source": [
    "## Create private route table\n",
    "\n",
    "Name: **Private-RT**  \n",
    "VPC: **MyVPC**  \n",
    "Subnet associations: **Private-1A, Private-1B**  \n",
    "![image.png](2021-12-16-aws_vpc/att_00009.png)"
   ]
  },
  {
   "cell_type": "markdown",
   "id": "9ae709b4-dcfa-45c5-a014-e5aa3acd4361",
   "metadata": {
    "jp-MarkdownHeadingCollapsed": true,
    "tags": []
   },
   "source": [
    "Change the name of default route table to 'MAIN' and associate the Private-1A and Private-1B to the route table.  \n",
    "![image.png](2021-12-16-aws_vpc/att_00010.png)"
   ]
  },
  {
   "cell_type": "markdown",
   "id": "6f9f1846-a69e-4b93-a2f8-e5820f0b5a2c",
   "metadata": {
    "jp-MarkdownHeadingCollapsed": true,
    "tags": []
   },
   "source": [
    "![image.png](2021-12-16-aws_vpc/att_00011.png)"
   ]
  },
  {
   "cell_type": "markdown",
   "id": "8b1f6af9-d536-4519-9c2e-8c2d36b7cab9",
   "metadata": {
    "tags": []
   },
   "source": [
    "## Create Internet Gateway\n",
    "\n",
    "Name: **MyIGW**  \n",
    "VPC: **MyVPC**  \n",
    "\n",
    "![image.png](2021-12-16-aws_vpc/att_00012.png)"
   ]
  },
  {
   "cell_type": "markdown",
   "id": "8dccd893-2058-4d97-a9d2-442a9a966a26",
   "metadata": {
    "tags": []
   },
   "source": [
    "![image.png](2021-12-16-aws_vpc/att_00013.png)"
   ]
  },
  {
   "cell_type": "markdown",
   "id": "e81e0c35-40ec-4a1c-8586-a6a9e30ef17c",
   "metadata": {
    "tags": []
   },
   "source": [
    "## Edit MAIN route table\n",
    "\n",
    "Add **0.0.0.0/0** to internet gateway.  \n",
    "\n",
    "![image.png](2021-12-16-aws_vpc/att_00014.png)"
   ]
  },
  {
   "cell_type": "markdown",
   "id": "35673ab9-b1f5-437e-a987-b15958ad9afc",
   "metadata": {
    "tags": []
   },
   "source": [
    "![image.png](2021-12-16-aws_vpc/att_00015.png)"
   ]
  },
  {
   "cell_type": "markdown",
   "id": "05ba4a0c-b3cd-40cd-a016-7814feebf9a6",
   "metadata": {
    "tags": []
   },
   "source": [
    "## NAT Gateway\n",
    "\n",
    "- Create [NAT Gateway](https://docs.aws.amazon.com/vpc/latest/userguide/vpc-nat-gateway.html)  \n",
    "![image.png](2021-12-16-aws_vpc/att_00016.png)"
   ]
  },
  {
   "cell_type": "markdown",
   "id": "fc380a1c-b9bc-464b-ac5f-37780e74e3cd",
   "metadata": {
    "tags": []
   },
   "source": [
    "- Go to PrivateRT and edit the route 0.0.0.0/0 to NAT Gateway  \n",
    "![image.png](2021-12-16-aws_vpc/att_00017.png)"
   ]
  },
  {
   "cell_type": "markdown",
   "id": "b95730b6-5255-4960-890d-efb5b22636e7",
   "metadata": {},
   "source": [
    "## Configure [Security Groups](https://docs.aws.amazon.com/vpc/latest/userguide/VPC_SecurityGroups.html) and NACLs\n",
    "\n",
    "- Create Public-Web security group  \n",
    "![image.png](2021-12-16-aws_vpc/att_00018.png)"
   ]
  },
  {
   "cell_type": "markdown",
   "id": "c58991fe-ae99-4b5a-95ac-927141bd50ad",
   "metadata": {},
   "source": [
    "- Private-App: Private App Access, Inbound rule: **http/80 with source Public-Web, make sure the inbound comes from the web app front end in the Public-Web security group**\n",
    "\n",
    "![image.png](2021-12-16-aws_vpc/att_00019.png)"
   ]
  },
  {
   "cell_type": "markdown",
   "id": "6bae3a7e-6e83-43f8-b27c-cca30f5fc677",
   "metadata": {
    "tags": []
   },
   "source": [
    "## Launch EC2s\n",
    "\n",
    "Use the following command to launch the EC2s. \n",
    "**aws ec2 run-instances --image-id <value> --instance-type <value> --security-group-ids <value> --subnet-id <value> --key-name <value> --user-data <value>**  \n",
    "\n",
    "The variables that need to be filled:\n",
    "- image-id: [Amazon Machine Images (AMI)](https://docs.aws.amazon.com/AWSEC2/latest/UserGuide/AMIs.html), here we use ami-0ed9277fb7eb570c9\n",
    "- instance-type: t2.micro\n",
    "- security-group-ids: Public-Web security group.\n",
    "- subnet-id: we create two EC2s in Public 1A and 1B, one EC2 in Private 1B.\n",
    "- key-name: [key pairs](https://docs.aws.amazon.com/AWSEC2/latest/UserGuide/ec2-key-pairs.html) of EC2.\n",
    "- user-data are needed to be filled: the file '/user-data-subnet-id.txt' in [exercise code](https://digitalcloud.training/aws-vpc-deep-dive-download/)\n",
    "\n",
    "\n",
    "    \n",
    "Once we have these ready we run the following script(Make sure the aws cli installed and configured before this).  \n",
    "- Launch instance in Public 1A  \n",
    "aws ec2 run-instances --image-id ami-0ed9277fb7eb570c9 --instance-type t2.micro --security-group-ids sg-0ff58fb3c21c0792d --subnet-id subnet-0f0f447e902559be9 --key-name ec2_cloud --user-data file://code/user-data-subnet-id.txt\n",
    "    \n",
    "- Launch instance in Public 1B  \n",
    "aws ec2 run-instances --image-id ami-0ed9277fb7eb570c9 --instance-type t2.micro --security-group-ids sg-0ff58fb3c21c0792d --subnet-id subnet-07266ffa901687189 --key-name ec2_cloud --user-data file://code/user-data-subnet-id.txt\n",
    "\n",
    "- Launch instance in Private 1B  \n",
    "aws ec2 run-instances --image-id ami-0ed9277fb7eb570c9 --instance-type t2.micro --security-group-ids sg-0ff58fb3c21c0792d --subnet-id subnet-0f44825a48340db38 --key-name ec2_cloud --user-data file://code/user-data-subnet-id.txt"
   ]
  },
  {
   "cell_type": "markdown",
   "id": "37f176ec-b350-497d-9cc2-4bc83b682a21",
   "metadata": {},
   "source": [
    "Finally three EC2 are launched.  \n",
    "\n",
    "![image.png](2021-12-16-aws_vpc/att_00020.png)"
   ]
  },
  {
   "cell_type": "markdown",
   "id": "d4ef539e-b1d0-4a10-bcc1-522e180c55ad",
   "metadata": {},
   "source": [
    "Visit the Instances in Public 1A and 1B.  \n",
    "![image.png](2021-12-16-aws_vpc/att_00021.png)"
   ]
  },
  {
   "cell_type": "markdown",
   "id": "229b55b2-3ea3-432b-8207-82ba7af5cb38",
   "metadata": {},
   "source": [
    "We see the response from the server: \"This instance is in the subnet wih ID: subnet-0f0f447e902559be9\".  \n",
    "![image.png](2021-12-16-aws_vpc/att_00022.png)"
   ]
  },
  {
   "cell_type": "markdown",
   "id": "46cad9c8-7f45-4a3f-8661-0b1f662e6aac",
   "metadata": {},
   "source": [
    "![image.png](2021-12-16-aws_vpc/att_00023.png)"
   ]
  },
  {
   "cell_type": "markdown",
   "id": "734a70dd-e2a9-463f-aad0-9a6dd7f1cc65",
   "metadata": {},
   "source": [
    "Change inbound rule of Public-Web security group, set the source to \"my ip\". Then try it also with another IP(turn VPN on). Change it back after the experiment.  \n",
    "![image.png](2021-12-16-aws_vpc/att_00024.png)"
   ]
  },
  {
   "cell_type": "markdown",
   "id": "43ea5e5e-63d4-416c-99f2-0337e64b041c",
   "metadata": {},
   "source": [
    "Once the VPN is turned on, the process bar was hardly moving which means the \"block\" was working.  \n",
    "![image.png](2021-12-16-aws_vpc/att_00025.png)"
   ]
  },
  {
   "cell_type": "markdown",
   "id": "981ce839-b688-464b-bc64-26a2f21bd9d4",
   "metadata": {},
   "source": [
    "Change it back after the testing.  \n",
    "![image.png](2021-12-16-aws_vpc/att_00026.png)"
   ]
  },
  {
   "cell_type": "markdown",
   "id": "81b9c931-1404-4906-9b00-870a762b087d",
   "metadata": {},
   "source": [
    "Test the internal network with SSH.  \n",
    "\n",
    "Ping from Public 1A to Public 1B  \n",
    "![image.png](2021-12-16-aws_vpc/att_00027.png)"
   ]
  },
  {
   "cell_type": "markdown",
   "id": "2dfb64c2-0440-4032-bc1e-4e39284d584e",
   "metadata": {},
   "source": [
    "![image.png](2021-12-16-aws_vpc/att_00028.png)"
   ]
  },
  {
   "cell_type": "markdown",
   "id": "56dd032f-cd00-4dd0-ad17-87dd1551d8a5",
   "metadata": {},
   "source": [
    "![image.png](2021-12-16-aws_vpc/att_00029.png)"
   ]
  },
  {
   "cell_type": "markdown",
   "id": "303c2820-2dec-4bcc-a23f-d92095cb6843",
   "metadata": {},
   "source": [
    "Ping from Public 1A to Private 1B  \n",
    "![image.png](2021-12-16-aws_vpc/att_00030.png) "
   ]
  },
  {
   "cell_type": "markdown",
   "id": "3dfdb79b-9582-4704-a9bf-7e55e8511cae",
   "metadata": {},
   "source": [
    "![image.png](2021-12-16-aws_vpc/att_00031.png)"
   ]
  },
  {
   "cell_type": "markdown",
   "id": "5e4bec11-7d0a-41fd-ab5e-64c32fe308dd",
   "metadata": {},
   "source": [
    "Change the security group of EC2 Private 1B to Private-App  \n",
    "![image.png](2021-12-16-aws_vpc/att_00032.png) "
   ]
  },
  {
   "cell_type": "markdown",
   "id": "ceaf8423-42ca-4cf2-946b-b9bd35a32115",
   "metadata": {},
   "source": [
    "![image.png](2021-12-16-aws_vpc/att_00033.png)"
   ]
  },
  {
   "cell_type": "markdown",
   "id": "2def474f-0662-4613-b698-d3709540aa9d",
   "metadata": {},
   "source": [
    "In the Private-App, only HTTP/80 was configured that Ping(ICMP) didn't work and CURL(Http) worked from Public 1A to Private 1B  \n",
    "![image.png](2021-12-16-aws_vpc/att_00034.png)"
   ]
  },
  {
   "cell_type": "markdown",
   "id": "d5423f30-aa83-452e-ba67-16524190127f",
   "metadata": {},
   "source": [
    "## Conclusion\n",
    "\n",
    "I finished this exercise and it makes me understand the core concepts of VPC. Potentially I may go to get some certificates and hopefully I can plan a schedule for it."
   ]
  }
 ],
 "metadata": {
  "kernelspec": {
   "display_name": "Python 3 (ipykernel)",
   "language": "python",
   "name": "python3"
  },
  "language_info": {
   "codemirror_mode": {
    "name": "ipython",
    "version": 3
   },
   "file_extension": ".py",
   "mimetype": "text/x-python",
   "name": "python",
   "nbconvert_exporter": "python",
   "pygments_lexer": "ipython3",
   "version": "3.9.9"
  }
 },
 "nbformat": 4,
 "nbformat_minor": 5
}
