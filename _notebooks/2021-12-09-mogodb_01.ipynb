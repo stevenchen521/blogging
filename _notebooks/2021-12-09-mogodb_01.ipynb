{
 "cells": [
  {
   "cell_type": "markdown",
   "id": "549adfc5-bdac-414c-8675-dda57de5fb36",
   "metadata": {
    "tags": []
   },
   "source": [
    "MongoDB is a rich document-oriented NoSQL database. I spent some time diving into it. My philosophy to learn a new tech is always practicing. Therefore, here I share my gained knowledge in the form of the exercise.\n",
    "\n",
    "Enough of the talk, let’s start!\n",
    "\n",
    "\n",
    "# Requirement\n",
    "\n",
    "I am building some personal application with Python. The requirement is to create or update the MongoDB collection(or table in the relational database) with rows in DataFrame. More specifically, for the rows that don't exist we do the creation based on the keys in the DataFrame. Otherwise the update should be performed.\n",
    "\n"
   ]
  },
  {
   "cell_type": "code",
   "execution_count": 1,
   "id": "ed8f9c5b-0025-4f69-8a20-0c368eba51ac",
   "metadata": {},
   "outputs": [],
   "source": [
    "#hide\n",
    "from pymongo import MongoClient, UpdateOne, collection\n",
    "from pandas import DataFrame\n",
    "from numpy import where\n",
    "from datetime import datetime\n",
    "    \n",
    "CONN_STR = 'mongodb+srv://fin-market.x5tm4.mongodb.net/myFirstDatabase?authSource=%24external&authMechanism=MONGODB-X509&tls=true&tlsCertificateKeyFile=../../drivers/X509-cert-fin-market.pem'"
   ]
  },
  {
   "cell_type": "code",
   "execution_count": 2,
   "id": "fdcee7bb-0c23-4934-ab10-427899da8588",
   "metadata": {},
   "outputs": [],
   "source": [
    "def show_collection(collection):\n",
    "    display(DataFrame([row for row in collection.find()]))"
   ]
  },
  {
   "cell_type": "markdown",
   "id": "ae1f74c1-4fa6-444a-8a2c-6536ff9ac45d",
   "metadata": {},
   "source": [
    "# Setup MongoDB Atlas Database\n",
    "\n",
    "Get a free cloud based MongoDB database [here](https://www.mongodb.com/cloud/atlas/lp/try2?utm_source=google&utm_campaign=gs_apac_hong_kong_search_core_brand_atlas_desktop&utm_term=mongodb%20atlas&utm_medium=cpc_paid_search&utm_ad=e&utm_ad_campaign_id=12212624344&adgroup=115749709143&gclid=Cj0KCQiAqbyNBhC2ARIsALDwAsApK8irJVZnesxewSitv8kTagWactqhvZPG4gpz5CKx0JV3Fh1pEIsaAttLEALw_wcB).\n",
    "\n",
    "Connect to the database and create the test database"
   ]
  },
  {
   "cell_type": "code",
   "execution_count": 4,
   "id": "22d5b943-4f2a-4796-a69d-c95d677ba7ea",
   "metadata": {},
   "outputs": [],
   "source": [
    "DB_NAME = 'test'\n",
    "COLLECTION_NAME = 'employee'"
   ]
  },
  {
   "cell_type": "code",
   "execution_count": 16,
   "id": "715747cd-2841-4809-a199-21c38e820790",
   "metadata": {},
   "outputs": [],
   "source": [
    "client = MongoClient(CONN_STR)\n",
    "client.drop_database(DB_NAME)\n",
    "db = client[DB_NAME] # switch database\n",
    "collection = db[COLLECTION_NAME] # get the collection"
   ]
  },
  {
   "cell_type": "code",
   "execution_count": 17,
   "id": "247f05d0-092f-486e-9ca4-f48247097a5d",
   "metadata": {},
   "outputs": [],
   "source": [
    "#hide\n",
    "now = datetime.now()\n",
    "emplyee = [['user1',25,'male', now],['user2',55,'male', now],['user3',43,'male', now]]\n",
    "df_emplyee = DataFrame(emplyee, columns=['name','age','sex', 'lastModifiedAt'])\n",
    "df_emplyee = df_emplyee[['name','age','sex']]"
   ]
  },
  {
   "cell_type": "markdown",
   "id": "3837a1dd-184b-4d09-8058-108397f4f953",
   "metadata": {},
   "source": [
    "Prepare a test DataFrame df_emplyee that contains three columns\n",
    "- name\n",
    "- age\n",
    "- sex"
   ]
  },
  {
   "cell_type": "code",
   "execution_count": 3,
   "id": "fe093e9b-5a9f-4c02-9ad0-16a2b797f3c5",
   "metadata": {},
   "outputs": [
    {
     "data": {
      "text/html": [
       "<div>\n",
       "<style scoped>\n",
       "    .dataframe tbody tr th:only-of-type {\n",
       "        vertical-align: middle;\n",
       "    }\n",
       "\n",
       "    .dataframe tbody tr th {\n",
       "        vertical-align: top;\n",
       "    }\n",
       "\n",
       "    .dataframe thead th {\n",
       "        text-align: right;\n",
       "    }\n",
       "</style>\n",
       "<table border=\"1\" class=\"dataframe\">\n",
       "  <thead>\n",
       "    <tr style=\"text-align: right;\">\n",
       "      <th></th>\n",
       "      <th>name</th>\n",
       "      <th>age</th>\n",
       "      <th>sex</th>\n",
       "    </tr>\n",
       "  </thead>\n",
       "  <tbody>\n",
       "    <tr>\n",
       "      <th>0</th>\n",
       "      <td>user1</td>\n",
       "      <td>25</td>\n",
       "      <td>male</td>\n",
       "    </tr>\n",
       "    <tr>\n",
       "      <th>1</th>\n",
       "      <td>user2</td>\n",
       "      <td>55</td>\n",
       "      <td>male</td>\n",
       "    </tr>\n",
       "    <tr>\n",
       "      <th>2</th>\n",
       "      <td>user3</td>\n",
       "      <td>43</td>\n",
       "      <td>male</td>\n",
       "    </tr>\n",
       "  </tbody>\n",
       "</table>\n",
       "</div>"
      ],
      "text/plain": [
       "    name  age   sex\n",
       "0  user1   25  male\n",
       "1  user2   55  male\n",
       "2  user3   43  male"
      ]
     },
     "execution_count": 3,
     "metadata": {},
     "output_type": "execute_result"
    }
   ],
   "source": [
    "df_emplyee"
   ]
  },
  {
   "cell_type": "code",
   "execution_count": 6,
   "id": "d1d0f18f-5aa0-40dc-abe0-7943b46d179a",
   "metadata": {},
   "outputs": [
    {
     "data": {
      "text/html": [
       "<div>\n",
       "<style scoped>\n",
       "    .dataframe tbody tr th:only-of-type {\n",
       "        vertical-align: middle;\n",
       "    }\n",
       "\n",
       "    .dataframe tbody tr th {\n",
       "        vertical-align: top;\n",
       "    }\n",
       "\n",
       "    .dataframe thead th {\n",
       "        text-align: right;\n",
       "    }\n",
       "</style>\n",
       "<table border=\"1\" class=\"dataframe\">\n",
       "  <thead>\n",
       "    <tr style=\"text-align: right;\">\n",
       "      <th></th>\n",
       "      <th>_id</th>\n",
       "      <th>name</th>\n",
       "      <th>age</th>\n",
       "      <th>sex</th>\n",
       "    </tr>\n",
       "  </thead>\n",
       "  <tbody>\n",
       "    <tr>\n",
       "      <th>0</th>\n",
       "      <td>61b0d067650e3488de556924</td>\n",
       "      <td>user1</td>\n",
       "      <td>25</td>\n",
       "      <td>male</td>\n",
       "    </tr>\n",
       "    <tr>\n",
       "      <th>1</th>\n",
       "      <td>61b0d067650e3488de556925</td>\n",
       "      <td>user2</td>\n",
       "      <td>55</td>\n",
       "      <td>male</td>\n",
       "    </tr>\n",
       "    <tr>\n",
       "      <th>2</th>\n",
       "      <td>61b0d067650e3488de556926</td>\n",
       "      <td>user3</td>\n",
       "      <td>43</td>\n",
       "      <td>male</td>\n",
       "    </tr>\n",
       "  </tbody>\n",
       "</table>\n",
       "</div>"
      ],
      "text/plain": [
       "                        _id   name  age   sex\n",
       "0  61b0d067650e3488de556924  user1   25  male\n",
       "1  61b0d067650e3488de556925  user2   55  male\n",
       "2  61b0d067650e3488de556926  user3   43  male"
      ]
     },
     "metadata": {},
     "output_type": "display_data"
    }
   ],
   "source": [
    "collection.insert_many(df_emplyee.to_dict(\"records\"))\n",
    "show_collection(collection)"
   ]
  },
  {
   "cell_type": "markdown",
   "id": "2eb6dc60-7a42-4674-856c-5593fcec0016",
   "metadata": {},
   "source": [
    "## Update & upsert\n",
    "\n",
    "Change the age of user1 to 32"
   ]
  },
  {
   "cell_type": "code",
   "execution_count": 7,
   "id": "90ec6ecf-813a-4ca3-89bd-57e27f64f99b",
   "metadata": {},
   "outputs": [
    {
     "data": {
      "text/plain": [
       "<pymongo.results.UpdateResult at 0x7f9972e869c0>"
      ]
     },
     "execution_count": 7,
     "metadata": {},
     "output_type": "execute_result"
    }
   ],
   "source": [
    "myquery = { \"name\": \"user1\" }\n",
    "newvalues = { \"$set\": { \"age\": \"32\" }, \"$currentDate\": {\"lastModifiedAt\": { \"$type\": \"date\" }} }\n",
    "collection.update_one(myquery, newvalues)"
   ]
  },
  {
   "cell_type": "code",
   "execution_count": 8,
   "id": "4b8d255b-9f52-4d57-8059-6319e016d110",
   "metadata": {},
   "outputs": [
    {
     "data": {
      "text/html": [
       "<div>\n",
       "<style scoped>\n",
       "    .dataframe tbody tr th:only-of-type {\n",
       "        vertical-align: middle;\n",
       "    }\n",
       "\n",
       "    .dataframe tbody tr th {\n",
       "        vertical-align: top;\n",
       "    }\n",
       "\n",
       "    .dataframe thead th {\n",
       "        text-align: right;\n",
       "    }\n",
       "</style>\n",
       "<table border=\"1\" class=\"dataframe\">\n",
       "  <thead>\n",
       "    <tr style=\"text-align: right;\">\n",
       "      <th></th>\n",
       "      <th>_id</th>\n",
       "      <th>name</th>\n",
       "      <th>age</th>\n",
       "      <th>sex</th>\n",
       "      <th>lastModifiedAt</th>\n",
       "    </tr>\n",
       "  </thead>\n",
       "  <tbody>\n",
       "    <tr>\n",
       "      <th>0</th>\n",
       "      <td>61b0d067650e3488de556924</td>\n",
       "      <td>user1</td>\n",
       "      <td>32</td>\n",
       "      <td>male</td>\n",
       "      <td>2021-12-08 15:33:59.537</td>\n",
       "    </tr>\n",
       "    <tr>\n",
       "      <th>1</th>\n",
       "      <td>61b0d067650e3488de556925</td>\n",
       "      <td>user2</td>\n",
       "      <td>55</td>\n",
       "      <td>male</td>\n",
       "      <td>NaT</td>\n",
       "    </tr>\n",
       "    <tr>\n",
       "      <th>2</th>\n",
       "      <td>61b0d067650e3488de556926</td>\n",
       "      <td>user3</td>\n",
       "      <td>43</td>\n",
       "      <td>male</td>\n",
       "      <td>NaT</td>\n",
       "    </tr>\n",
       "  </tbody>\n",
       "</table>\n",
       "</div>"
      ],
      "text/plain": [
       "                        _id   name age   sex          lastModifiedAt\n",
       "0  61b0d067650e3488de556924  user1  32  male 2021-12-08 15:33:59.537\n",
       "1  61b0d067650e3488de556925  user2  55  male                     NaT\n",
       "2  61b0d067650e3488de556926  user3  43  male                     NaT"
      ]
     },
     "metadata": {},
     "output_type": "display_data"
    }
   ],
   "source": [
    "show_collection(collection)"
   ]
  },
  {
   "cell_type": "code",
   "execution_count": 9,
   "id": "7632408a-89c2-4722-aa23-13046409684a",
   "metadata": {
    "jp-MarkdownHeadingCollapsed": true,
    "tags": []
   },
   "outputs": [
    {
     "data": {
      "text/html": [
       "<div>\n",
       "<style scoped>\n",
       "    .dataframe tbody tr th:only-of-type {\n",
       "        vertical-align: middle;\n",
       "    }\n",
       "\n",
       "    .dataframe tbody tr th {\n",
       "        vertical-align: top;\n",
       "    }\n",
       "\n",
       "    .dataframe thead th {\n",
       "        text-align: right;\n",
       "    }\n",
       "</style>\n",
       "<table border=\"1\" class=\"dataframe\">\n",
       "  <thead>\n",
       "    <tr style=\"text-align: right;\">\n",
       "      <th></th>\n",
       "      <th>_id</th>\n",
       "      <th>name</th>\n",
       "      <th>age</th>\n",
       "      <th>sex</th>\n",
       "      <th>lastModifiedAt</th>\n",
       "    </tr>\n",
       "  </thead>\n",
       "  <tbody>\n",
       "    <tr>\n",
       "      <th>0</th>\n",
       "      <td>61b0d067650e3488de556924</td>\n",
       "      <td>user1</td>\n",
       "      <td>32</td>\n",
       "      <td>male</td>\n",
       "      <td>2021-12-08 15:33:59.777</td>\n",
       "    </tr>\n",
       "    <tr>\n",
       "      <th>1</th>\n",
       "      <td>61b0d067650e3488de556925</td>\n",
       "      <td>user2</td>\n",
       "      <td>55</td>\n",
       "      <td>male</td>\n",
       "      <td>NaT</td>\n",
       "    </tr>\n",
       "    <tr>\n",
       "      <th>2</th>\n",
       "      <td>61b0d067650e3488de556926</td>\n",
       "      <td>user3</td>\n",
       "      <td>43</td>\n",
       "      <td>male</td>\n",
       "      <td>NaT</td>\n",
       "    </tr>\n",
       "  </tbody>\n",
       "</table>\n",
       "</div>"
      ],
      "text/plain": [
       "                        _id   name  age   sex          lastModifiedAt\n",
       "0  61b0d067650e3488de556924  user1   32  male 2021-12-08 15:33:59.777\n",
       "1  61b0d067650e3488de556925  user2   55  male                     NaT\n",
       "2  61b0d067650e3488de556926  user3   43  male                     NaT"
      ]
     },
     "metadata": {},
     "output_type": "display_data"
    }
   ],
   "source": [
    "collection.update_one({\"name\":\"user1\"}, \n",
    "                      {\"$set\":{\"age\":32},\n",
    "                              \"$currentDate\": \n",
    "                              {\"lastModifiedAt\": { \"$type\": \"date\" }}\n",
    "                      }, \n",
    "                      upsert=True)\n",
    "show_collection(collection)"
   ]
  },
  {
   "cell_type": "code",
   "execution_count": 10,
   "id": "af8f2063-761b-4f94-9c94-08ee25cd00f0",
   "metadata": {},
   "outputs": [
    {
     "data": {
      "text/html": [
       "<div>\n",
       "<style scoped>\n",
       "    .dataframe tbody tr th:only-of-type {\n",
       "        vertical-align: middle;\n",
       "    }\n",
       "\n",
       "    .dataframe tbody tr th {\n",
       "        vertical-align: top;\n",
       "    }\n",
       "\n",
       "    .dataframe thead th {\n",
       "        text-align: right;\n",
       "    }\n",
       "</style>\n",
       "<table border=\"1\" class=\"dataframe\">\n",
       "  <thead>\n",
       "    <tr style=\"text-align: right;\">\n",
       "      <th></th>\n",
       "      <th>_id</th>\n",
       "      <th>name</th>\n",
       "      <th>age</th>\n",
       "      <th>sex</th>\n",
       "      <th>lastModifiedAt</th>\n",
       "    </tr>\n",
       "  </thead>\n",
       "  <tbody>\n",
       "    <tr>\n",
       "      <th>0</th>\n",
       "      <td>61b0d067650e3488de556924</td>\n",
       "      <td>user1</td>\n",
       "      <td>32</td>\n",
       "      <td>male</td>\n",
       "      <td>2021-12-08 15:33:59.777</td>\n",
       "    </tr>\n",
       "    <tr>\n",
       "      <th>1</th>\n",
       "      <td>61b0d067650e3488de556925</td>\n",
       "      <td>user2</td>\n",
       "      <td>55</td>\n",
       "      <td>male</td>\n",
       "      <td>NaT</td>\n",
       "    </tr>\n",
       "    <tr>\n",
       "      <th>2</th>\n",
       "      <td>61b0d067650e3488de556926</td>\n",
       "      <td>user3</td>\n",
       "      <td>43</td>\n",
       "      <td>male</td>\n",
       "      <td>NaT</td>\n",
       "    </tr>\n",
       "    <tr>\n",
       "      <th>3</th>\n",
       "      <td>61b0d06712c824e29ed6221a</td>\n",
       "      <td>user4</td>\n",
       "      <td>32</td>\n",
       "      <td>female</td>\n",
       "      <td>2021-12-08 15:33:59.989</td>\n",
       "    </tr>\n",
       "  </tbody>\n",
       "</table>\n",
       "</div>"
      ],
      "text/plain": [
       "                        _id   name  age     sex          lastModifiedAt\n",
       "0  61b0d067650e3488de556924  user1   32    male 2021-12-08 15:33:59.777\n",
       "1  61b0d067650e3488de556925  user2   55    male                     NaT\n",
       "2  61b0d067650e3488de556926  user3   43    male                     NaT\n",
       "3  61b0d06712c824e29ed6221a  user4   32  female 2021-12-08 15:33:59.989"
      ]
     },
     "metadata": {},
     "output_type": "display_data"
    }
   ],
   "source": [
    "collection.update_one({\"name\":\"user4\"}, \n",
    "                      {\"$set\":{\"age\":32}, \n",
    "                              \"$setOnInsert\":{\"sex\":\"female\"},\n",
    "                              \"$currentDate\":{\"lastModifiedAt\": { \"$type\": \"date\" }}\n",
    "                      }, \n",
    "                      upsert=True)\n",
    "show_collection(collection)"
   ]
  },
  {
   "cell_type": "markdown",
   "id": "d6166a03-9037-43b6-8a51-656664e4c47e",
   "metadata": {
    "tags": []
   },
   "source": [
    "# Bulk update"
   ]
  },
  {
   "cell_type": "code",
   "execution_count": 11,
   "id": "f7c8a213-a554-40b7-8e60-8adac731babe",
   "metadata": {},
   "outputs": [
    {
     "data": {
      "text/html": [
       "<div>\n",
       "<style scoped>\n",
       "    .dataframe tbody tr th:only-of-type {\n",
       "        vertical-align: middle;\n",
       "    }\n",
       "\n",
       "    .dataframe tbody tr th {\n",
       "        vertical-align: top;\n",
       "    }\n",
       "\n",
       "    .dataframe thead th {\n",
       "        text-align: right;\n",
       "    }\n",
       "</style>\n",
       "<table border=\"1\" class=\"dataframe\">\n",
       "  <thead>\n",
       "    <tr style=\"text-align: right;\">\n",
       "      <th></th>\n",
       "      <th>_id</th>\n",
       "      <th>name</th>\n",
       "      <th>age</th>\n",
       "      <th>sex</th>\n",
       "      <th>lastModifiedAt</th>\n",
       "    </tr>\n",
       "  </thead>\n",
       "  <tbody>\n",
       "    <tr>\n",
       "      <th>0</th>\n",
       "      <td>61b0d067650e3488de556924</td>\n",
       "      <td>user1</td>\n",
       "      <td>25</td>\n",
       "      <td>male</td>\n",
       "      <td>2021-12-08 15:34:00.236</td>\n",
       "    </tr>\n",
       "    <tr>\n",
       "      <th>1</th>\n",
       "      <td>61b0d067650e3488de556925</td>\n",
       "      <td>user2</td>\n",
       "      <td>55</td>\n",
       "      <td>male</td>\n",
       "      <td>2021-12-08 15:34:00.237</td>\n",
       "    </tr>\n",
       "    <tr>\n",
       "      <th>2</th>\n",
       "      <td>61b0d067650e3488de556926</td>\n",
       "      <td>user3</td>\n",
       "      <td>43</td>\n",
       "      <td>male</td>\n",
       "      <td>2021-12-08 15:34:00.237</td>\n",
       "    </tr>\n",
       "    <tr>\n",
       "      <th>3</th>\n",
       "      <td>61b0d06712c824e29ed6221a</td>\n",
       "      <td>user4</td>\n",
       "      <td>32</td>\n",
       "      <td>female</td>\n",
       "      <td>2021-12-08 15:33:59.989</td>\n",
       "    </tr>\n",
       "    <tr>\n",
       "      <th>4</th>\n",
       "      <td>61b0d06812c824e29ed6223b</td>\n",
       "      <td>user5</td>\n",
       "      <td>65</td>\n",
       "      <td>male</td>\n",
       "      <td>2021-12-08 15:34:00.237</td>\n",
       "    </tr>\n",
       "  </tbody>\n",
       "</table>\n",
       "</div>"
      ],
      "text/plain": [
       "                        _id   name  age     sex          lastModifiedAt\n",
       "0  61b0d067650e3488de556924  user1   25    male 2021-12-08 15:34:00.236\n",
       "1  61b0d067650e3488de556925  user2   55    male 2021-12-08 15:34:00.237\n",
       "2  61b0d067650e3488de556926  user3   43    male 2021-12-08 15:34:00.237\n",
       "3  61b0d06712c824e29ed6221a  user4   32  female 2021-12-08 15:33:59.989\n",
       "4  61b0d06812c824e29ed6223b  user5   65    male 2021-12-08 15:34:00.237"
      ]
     },
     "metadata": {},
     "output_type": "display_data"
    }
   ],
   "source": [
    "df_emplyee = df_emplyee.append({'name':'user5','age': 65, 'sex':'male'},ignore_index=True)\n",
    "\n",
    "\n",
    "updates = []\n",
    "df_emplyee.apply(\n",
    "        lambda row: updates.append(\n",
    "            UpdateOne(\n",
    "                {\"name\": row.get(\"name\")}, \n",
    "                {\"$set\": row.to_dict(), \n",
    "                         \"$currentDate\":{\"lastModifiedAt\": { \"$type\": \"date\" }}\n",
    "                }, \n",
    "                upsert=True\n",
    "            )),\n",
    "        axis=1)\n",
    "collection.bulk_write(updates)\n",
    "show_collection(collection)"
   ]
  },
  {
   "cell_type": "markdown",
   "id": "5d5c3549-e377-4b1c-ad20-e963872c9c6a",
   "metadata": {},
   "source": [
    "# DataFrame upsert"
   ]
  },
  {
   "cell_type": "code",
   "execution_count": 12,
   "id": "1557c711-a61f-473e-99ff-f9f7b65e079e",
   "metadata": {},
   "outputs": [],
   "source": [
    "def df_upsert(df:DataFrame, collection, keys:[]):\n",
    "    def row_query(row, keys ):\n",
    "        res = {}\n",
    "        for key in keys:\n",
    "            res[key] = row.get(key)\n",
    "        return res\n",
    "    updates = []\n",
    "    df_emplyee.apply(\n",
    "        lambda row: updates.append(\n",
    "            UpdateOne(\n",
    "                row_query(row, keys), \n",
    "                {'$set': row.to_dict(),\n",
    "                    \"$currentDate\":{\"lastModifiedAt\": { \"$type\": \"date\" }}\n",
    "                }, \n",
    "                upsert=True)), \n",
    "            axis=1\n",
    "    )\n",
    "    collection.bulk_write(updates)\n"
   ]
  },
  {
   "cell_type": "code",
   "execution_count": 13,
   "id": "39b124b9-5ea2-48f7-bfca-374b1a14cf79",
   "metadata": {},
   "outputs": [
    {
     "data": {
      "text/html": [
       "<div>\n",
       "<style scoped>\n",
       "    .dataframe tbody tr th:only-of-type {\n",
       "        vertical-align: middle;\n",
       "    }\n",
       "\n",
       "    .dataframe tbody tr th {\n",
       "        vertical-align: top;\n",
       "    }\n",
       "\n",
       "    .dataframe thead th {\n",
       "        text-align: right;\n",
       "    }\n",
       "</style>\n",
       "<table border=\"1\" class=\"dataframe\">\n",
       "  <thead>\n",
       "    <tr style=\"text-align: right;\">\n",
       "      <th></th>\n",
       "      <th>_id</th>\n",
       "      <th>name</th>\n",
       "      <th>age</th>\n",
       "      <th>sex</th>\n",
       "      <th>lastModifiedAt</th>\n",
       "    </tr>\n",
       "  </thead>\n",
       "  <tbody>\n",
       "    <tr>\n",
       "      <th>0</th>\n",
       "      <td>61b0d067650e3488de556924</td>\n",
       "      <td>user1</td>\n",
       "      <td>25</td>\n",
       "      <td>male</td>\n",
       "      <td>2021-12-08 15:34:00.236</td>\n",
       "    </tr>\n",
       "    <tr>\n",
       "      <th>1</th>\n",
       "      <td>61b0d067650e3488de556925</td>\n",
       "      <td>user2</td>\n",
       "      <td>55</td>\n",
       "      <td>male</td>\n",
       "      <td>2021-12-08 15:34:00.237</td>\n",
       "    </tr>\n",
       "    <tr>\n",
       "      <th>2</th>\n",
       "      <td>61b0d067650e3488de556926</td>\n",
       "      <td>user3</td>\n",
       "      <td>43</td>\n",
       "      <td>male</td>\n",
       "      <td>2021-12-08 15:34:00.237</td>\n",
       "    </tr>\n",
       "    <tr>\n",
       "      <th>3</th>\n",
       "      <td>61b0d06712c824e29ed6221a</td>\n",
       "      <td>user4</td>\n",
       "      <td>32</td>\n",
       "      <td>female</td>\n",
       "      <td>2021-12-08 15:33:59.989</td>\n",
       "    </tr>\n",
       "    <tr>\n",
       "      <th>4</th>\n",
       "      <td>61b0d06812c824e29ed6223b</td>\n",
       "      <td>user5</td>\n",
       "      <td>65</td>\n",
       "      <td>male</td>\n",
       "      <td>2021-12-08 15:34:00.237</td>\n",
       "    </tr>\n",
       "  </tbody>\n",
       "</table>\n",
       "</div>"
      ],
      "text/plain": [
       "                        _id   name  age     sex          lastModifiedAt\n",
       "0  61b0d067650e3488de556924  user1   25    male 2021-12-08 15:34:00.236\n",
       "1  61b0d067650e3488de556925  user2   55    male 2021-12-08 15:34:00.237\n",
       "2  61b0d067650e3488de556926  user3   43    male 2021-12-08 15:34:00.237\n",
       "3  61b0d06712c824e29ed6221a  user4   32  female 2021-12-08 15:33:59.989\n",
       "4  61b0d06812c824e29ed6223b  user5   65    male 2021-12-08 15:34:00.237"
      ]
     },
     "metadata": {},
     "output_type": "display_data"
    }
   ],
   "source": [
    "show_collection(collection)"
   ]
  },
  {
   "cell_type": "code",
   "execution_count": 14,
   "id": "1dffa2bf-7132-4e86-b6e7-a7276cefffef",
   "metadata": {},
   "outputs": [
    {
     "data": {
      "text/html": [
       "<div>\n",
       "<style scoped>\n",
       "    .dataframe tbody tr th:only-of-type {\n",
       "        vertical-align: middle;\n",
       "    }\n",
       "\n",
       "    .dataframe tbody tr th {\n",
       "        vertical-align: top;\n",
       "    }\n",
       "\n",
       "    .dataframe thead th {\n",
       "        text-align: right;\n",
       "    }\n",
       "</style>\n",
       "<table border=\"1\" class=\"dataframe\">\n",
       "  <thead>\n",
       "    <tr style=\"text-align: right;\">\n",
       "      <th></th>\n",
       "      <th>name</th>\n",
       "      <th>age</th>\n",
       "      <th>sex</th>\n",
       "    </tr>\n",
       "  </thead>\n",
       "  <tbody>\n",
       "    <tr>\n",
       "      <th>0</th>\n",
       "      <td>user1</td>\n",
       "      <td>25</td>\n",
       "      <td>male</td>\n",
       "    </tr>\n",
       "    <tr>\n",
       "      <th>1</th>\n",
       "      <td>user2</td>\n",
       "      <td>55</td>\n",
       "      <td>male</td>\n",
       "    </tr>\n",
       "    <tr>\n",
       "      <th>2</th>\n",
       "      <td>user3</td>\n",
       "      <td>43</td>\n",
       "      <td>male</td>\n",
       "    </tr>\n",
       "    <tr>\n",
       "      <th>3</th>\n",
       "      <td>user5</td>\n",
       "      <td>65</td>\n",
       "      <td>male</td>\n",
       "    </tr>\n",
       "    <tr>\n",
       "      <th>4</th>\n",
       "      <td>user6</td>\n",
       "      <td>37</td>\n",
       "      <td>female</td>\n",
       "    </tr>\n",
       "  </tbody>\n",
       "</table>\n",
       "</div>"
      ],
      "text/plain": [
       "    name  age     sex\n",
       "0  user1   25    male\n",
       "1  user2   55    male\n",
       "2  user3   43    male\n",
       "3  user5   65    male\n",
       "4  user6   37  female"
      ]
     },
     "execution_count": 14,
     "metadata": {},
     "output_type": "execute_result"
    }
   ],
   "source": [
    "df_emplyee = df_emplyee.append({'name':'user6','age': 37, 'sex':'female'},ignore_index=True)\n",
    "df_emplyee"
   ]
  },
  {
   "cell_type": "code",
   "execution_count": 15,
   "id": "a0a42f74-e517-45c0-a89f-9f1a09c4eab3",
   "metadata": {},
   "outputs": [
    {
     "data": {
      "text/html": [
       "<div>\n",
       "<style scoped>\n",
       "    .dataframe tbody tr th:only-of-type {\n",
       "        vertical-align: middle;\n",
       "    }\n",
       "\n",
       "    .dataframe tbody tr th {\n",
       "        vertical-align: top;\n",
       "    }\n",
       "\n",
       "    .dataframe thead th {\n",
       "        text-align: right;\n",
       "    }\n",
       "</style>\n",
       "<table border=\"1\" class=\"dataframe\">\n",
       "  <thead>\n",
       "    <tr style=\"text-align: right;\">\n",
       "      <th></th>\n",
       "      <th>_id</th>\n",
       "      <th>name</th>\n",
       "      <th>age</th>\n",
       "      <th>sex</th>\n",
       "      <th>lastModifiedAt</th>\n",
       "    </tr>\n",
       "  </thead>\n",
       "  <tbody>\n",
       "    <tr>\n",
       "      <th>0</th>\n",
       "      <td>61b0d067650e3488de556924</td>\n",
       "      <td>user1</td>\n",
       "      <td>25</td>\n",
       "      <td>male</td>\n",
       "      <td>2021-12-08 15:34:00.609</td>\n",
       "    </tr>\n",
       "    <tr>\n",
       "      <th>1</th>\n",
       "      <td>61b0d067650e3488de556925</td>\n",
       "      <td>user2</td>\n",
       "      <td>55</td>\n",
       "      <td>male</td>\n",
       "      <td>2021-12-08 15:34:00.610</td>\n",
       "    </tr>\n",
       "    <tr>\n",
       "      <th>2</th>\n",
       "      <td>61b0d067650e3488de556926</td>\n",
       "      <td>user3</td>\n",
       "      <td>43</td>\n",
       "      <td>male</td>\n",
       "      <td>2021-12-08 15:34:00.610</td>\n",
       "    </tr>\n",
       "    <tr>\n",
       "      <th>3</th>\n",
       "      <td>61b0d06712c824e29ed6221a</td>\n",
       "      <td>user4</td>\n",
       "      <td>32</td>\n",
       "      <td>female</td>\n",
       "      <td>2021-12-08 15:33:59.989</td>\n",
       "    </tr>\n",
       "    <tr>\n",
       "      <th>4</th>\n",
       "      <td>61b0d06812c824e29ed6223b</td>\n",
       "      <td>user5</td>\n",
       "      <td>65</td>\n",
       "      <td>male</td>\n",
       "      <td>2021-12-08 15:34:00.610</td>\n",
       "    </tr>\n",
       "    <tr>\n",
       "      <th>5</th>\n",
       "      <td>61b0d06812c824e29ed62261</td>\n",
       "      <td>user6</td>\n",
       "      <td>37</td>\n",
       "      <td>female</td>\n",
       "      <td>2021-12-08 15:34:00.610</td>\n",
       "    </tr>\n",
       "  </tbody>\n",
       "</table>\n",
       "</div>"
      ],
      "text/plain": [
       "                        _id   name  age     sex          lastModifiedAt\n",
       "0  61b0d067650e3488de556924  user1   25    male 2021-12-08 15:34:00.609\n",
       "1  61b0d067650e3488de556925  user2   55    male 2021-12-08 15:34:00.610\n",
       "2  61b0d067650e3488de556926  user3   43    male 2021-12-08 15:34:00.610\n",
       "3  61b0d06712c824e29ed6221a  user4   32  female 2021-12-08 15:33:59.989\n",
       "4  61b0d06812c824e29ed6223b  user5   65    male 2021-12-08 15:34:00.610\n",
       "5  61b0d06812c824e29ed62261  user6   37  female 2021-12-08 15:34:00.610"
      ]
     },
     "metadata": {},
     "output_type": "display_data"
    }
   ],
   "source": [
    "df_upsert(df_emplyee, collection, ['name'])\n",
    "show_collection(collection)"
   ]
  }
 ],
 "metadata": {
  "kernelspec": {
   "display_name": "Python 3 (ipykernel)",
   "language": "python",
   "name": "python3"
  },
  "language_info": {
   "codemirror_mode": {
    "name": "ipython",
    "version": 3
   },
   "file_extension": ".py",
   "mimetype": "text/x-python",
   "name": "python",
   "nbconvert_exporter": "python",
   "pygments_lexer": "ipython3",
   "version": "3.9.6"
  }
 },
 "nbformat": 4,
 "nbformat_minor": 5
}
