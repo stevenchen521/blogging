{
 "cells": [
  {
   "cell_type": "markdown",
   "id": "549adfc5-bdac-414c-8675-dda57de5fb36",
   "metadata": {
    "jp-MarkdownHeadingCollapsed": true,
    "tags": []
   },
   "source": [
    "# Upsert DataFrame to MongoDB\n",
    ">MongoDB is a rich document-oriented NoSQL database. I spent some time diving into it. In this post I will share how to 'upsert' the Pandas DataFrame against the MongoDB\n",
    "\n",
    "- toc: true\n",
    "- comments: true\n",
    "- branch: master\n",
    "- badges: true\n",
    "- categories: [NoSQL, Python]\n",
    "- image: images/upsert.png\n"
   ]
  },
  {
   "cell_type": "markdown",
   "id": "2916edc4-a2ef-434c-a015-86e0818c7f6e",
   "metadata": {},
   "source": [
    "# Requirement\n",
    "\n",
    "Let's say we have a DataFrame. We want to 'upsert'(Insert/update) the MongoDB collection with rows in DataFrame. More specifically, for the rows that don't exist we do the creation, otherwise the update should be performed."
   ]
  },
  {
   "cell_type": "code",
   "execution_count": 1,
   "id": "ed8f9c5b-0025-4f69-8a20-0c368eba51ac",
   "metadata": {},
   "outputs": [],
   "source": [
    "#hide\n",
    "from pymongo import MongoClient, UpdateOne, collection\n",
    "from pandas import DataFrame\n",
    "from numpy import where\n",
    "from datetime import datetime\n",
    "    \n",
    "CONN_STR = 'mongodb+srv://fin-market.x5tm4.mongodb.net/myFirstDatabase?authSource=%24external&authMechanism=MONGODB-X509&tls=true&tlsCertificateKeyFile=../../../drivers/X509-cert-fin-market.pem'"
   ]
  },
  {
   "cell_type": "code",
   "execution_count": 2,
   "id": "fdcee7bb-0c23-4934-ab10-427899da8588",
   "metadata": {},
   "outputs": [],
   "source": [
    "#collapse_output\n",
    "def show_collection(collection):\n",
    "    display(DataFrame([row for row in collection.find()]))"
   ]
  },
  {
   "cell_type": "markdown",
   "id": "ae1f74c1-4fa6-444a-8a2c-6536ff9ac45d",
   "metadata": {},
   "source": [
    "# Setup Cloud MongoDB for Free\n",
    "\n",
    "Setup a free cloud based MongoDB database [here](https://www.mongodb.com/cloud/atlas/lp/try2?utm_source=google&utm_campaign=gs_apac_hong_kong_search_core_brand_atlas_desktop&utm_term=mongodb%20atlas&utm_medium=cpc_paid_search&utm_ad=e&utm_ad_campaign_id=12212624344&adgroup=115749709143&gclid=Cj0KCQiAqbyNBhC2ARIsALDwAsApK8irJVZnesxewSitv8kTagWactqhvZPG4gpz5CKx0JV3Fh1pEIsaAttLEALw_wcB).\n",
    "\n",
    "Connect to the database and create the 'test' database and 'employee' collection."
   ]
  },
  {
   "cell_type": "code",
   "execution_count": 3,
   "id": "22d5b943-4f2a-4796-a69d-c95d677ba7ea",
   "metadata": {},
   "outputs": [],
   "source": [
    "DB_NAME = 'test'\n",
    "COLLECTION_NAME = 'employee'"
   ]
  },
  {
   "cell_type": "code",
   "execution_count": 4,
   "id": "715747cd-2841-4809-a199-21c38e820790",
   "metadata": {},
   "outputs": [],
   "source": [
    "client = MongoClient(CONN_STR)\n",
    "client.drop_database(DB_NAME) # clear the database\n",
    "db = client[DB_NAME] # switch database\n",
    "collection = db[COLLECTION_NAME] # get the collection"
   ]
  },
  {
   "cell_type": "code",
   "execution_count": 5,
   "id": "247f05d0-092f-486e-9ca4-f48247097a5d",
   "metadata": {},
   "outputs": [],
   "source": [
    "#collapse_output\n",
    "now = datetime.now()\n",
    "emplyee = [['user1',25,'male', now],['user2',55,'male', now],['user3',43,'male', now]]\n",
    "df_emplyee = DataFrame(emplyee, columns=['name','age','sex', 'lastModifiedAt'])\n",
    "df_emplyee = df_emplyee[['name','age','sex']]"
   ]
  },
  {
   "cell_type": "markdown",
   "id": "3837a1dd-184b-4d09-8058-108397f4f953",
   "metadata": {},
   "source": [
    "Prepare a test DataFrame df_emplyee that contains three columns:\n",
    "- name\n",
    "- age\n",
    "- sex"
   ]
  },
  {
   "cell_type": "code",
   "execution_count": 6,
   "id": "fe093e9b-5a9f-4c02-9ad0-16a2b797f3c5",
   "metadata": {},
   "outputs": [
    {
     "data": {
      "text/html": [
       "<div>\n",
       "<style scoped>\n",
       "    .dataframe tbody tr th:only-of-type {\n",
       "        vertical-align: middle;\n",
       "    }\n",
       "\n",
       "    .dataframe tbody tr th {\n",
       "        vertical-align: top;\n",
       "    }\n",
       "\n",
       "    .dataframe thead th {\n",
       "        text-align: right;\n",
       "    }\n",
       "</style>\n",
       "<table border=\"1\" class=\"dataframe\">\n",
       "  <thead>\n",
       "    <tr style=\"text-align: right;\">\n",
       "      <th></th>\n",
       "      <th>name</th>\n",
       "      <th>age</th>\n",
       "      <th>sex</th>\n",
       "    </tr>\n",
       "  </thead>\n",
       "  <tbody>\n",
       "    <tr>\n",
       "      <th>0</th>\n",
       "      <td>user1</td>\n",
       "      <td>25</td>\n",
       "      <td>male</td>\n",
       "    </tr>\n",
       "    <tr>\n",
       "      <th>1</th>\n",
       "      <td>user2</td>\n",
       "      <td>55</td>\n",
       "      <td>male</td>\n",
       "    </tr>\n",
       "    <tr>\n",
       "      <th>2</th>\n",
       "      <td>user3</td>\n",
       "      <td>43</td>\n",
       "      <td>male</td>\n",
       "    </tr>\n",
       "  </tbody>\n",
       "</table>\n",
       "</div>"
      ],
      "text/plain": [
       "    name  age   sex\n",
       "0  user1   25  male\n",
       "1  user2   55  male\n",
       "2  user3   43  male"
      ]
     },
     "execution_count": 6,
     "metadata": {},
     "output_type": "execute_result"
    }
   ],
   "source": [
    "df_emplyee"
   ]
  },
  {
   "cell_type": "markdown",
   "id": "6799ab4f-ee0c-4d39-b217-7bba03d69ecf",
   "metadata": {},
   "source": [
    "Once the records are inserted to the collection, we get the \\_id column for every row. ['\\_id' column is a potentially a good shard key used by MongoDB cluster. ](https://www.mongodb.com/blog/post/on-selecting-a-shard-key-for-mongodb)"
   ]
  },
  {
   "cell_type": "code",
   "execution_count": 7,
   "id": "d1d0f18f-5aa0-40dc-abe0-7943b46d179a",
   "metadata": {},
   "outputs": [
    {
     "data": {
      "text/html": [
       "<div>\n",
       "<style scoped>\n",
       "    .dataframe tbody tr th:only-of-type {\n",
       "        vertical-align: middle;\n",
       "    }\n",
       "\n",
       "    .dataframe tbody tr th {\n",
       "        vertical-align: top;\n",
       "    }\n",
       "\n",
       "    .dataframe thead th {\n",
       "        text-align: right;\n",
       "    }\n",
       "</style>\n",
       "<table border=\"1\" class=\"dataframe\">\n",
       "  <thead>\n",
       "    <tr style=\"text-align: right;\">\n",
       "      <th></th>\n",
       "      <th>_id</th>\n",
       "      <th>name</th>\n",
       "      <th>age</th>\n",
       "      <th>sex</th>\n",
       "    </tr>\n",
       "  </thead>\n",
       "  <tbody>\n",
       "    <tr>\n",
       "      <th>0</th>\n",
       "      <td>61bb536d771f7760addc5d1c</td>\n",
       "      <td>user1</td>\n",
       "      <td>25</td>\n",
       "      <td>male</td>\n",
       "    </tr>\n",
       "    <tr>\n",
       "      <th>1</th>\n",
       "      <td>61bb536d771f7760addc5d1d</td>\n",
       "      <td>user2</td>\n",
       "      <td>55</td>\n",
       "      <td>male</td>\n",
       "    </tr>\n",
       "    <tr>\n",
       "      <th>2</th>\n",
       "      <td>61bb536d771f7760addc5d1e</td>\n",
       "      <td>user3</td>\n",
       "      <td>43</td>\n",
       "      <td>male</td>\n",
       "    </tr>\n",
       "  </tbody>\n",
       "</table>\n",
       "</div>"
      ],
      "text/plain": [
       "                        _id   name  age   sex\n",
       "0  61bb536d771f7760addc5d1c  user1   25  male\n",
       "1  61bb536d771f7760addc5d1d  user2   55  male\n",
       "2  61bb536d771f7760addc5d1e  user3   43  male"
      ]
     },
     "metadata": {},
     "output_type": "display_data"
    }
   ],
   "source": [
    "collection.insert_many(df_emplyee.to_dict(\"records\"))\n",
    "show_collection(collection)\n"
   ]
  },
  {
   "cell_type": "markdown",
   "id": "2eb6dc60-7a42-4674-856c-5593fcec0016",
   "metadata": {},
   "source": [
    "# Update\n",
    "\n",
    "Let's do the update. Change the age of user1 to 32 with [update_one](https://pymongo.readthedocs.io/en/stable/api/pymongo/collection.html) method.\n",
    "- filter parameter get the rows that need update.\n",
    "- [\\$set](https://docs.mongodb.com/manual/reference/operator/update/set/) flag is to update the columns specified.\n",
    "- [\\$currentDate](https://docs.mongodb.com/manual/reference/operator/update/currentDate/) here is to update lastModifiedAt column with the current time.\n"
   ]
  },
  {
   "cell_type": "code",
   "execution_count": 8,
   "id": "90ec6ecf-813a-4ca3-89bd-57e27f64f99b",
   "metadata": {},
   "outputs": [],
   "source": [
    "myquery = { \"name\": \"user1\" }\n",
    "newvalues = { \"$set\": { \"age\": \"32\" }, \"$currentDate\": {\"lastModifiedAt\": { \"$type\": \"date\" }} }\n",
    "res = collection.update_one(filter=myquery, update=newvalues)"
   ]
  },
  {
   "cell_type": "code",
   "execution_count": 9,
   "id": "4b8d255b-9f52-4d57-8059-6319e016d110",
   "metadata": {},
   "outputs": [
    {
     "data": {
      "text/html": [
       "<div>\n",
       "<style scoped>\n",
       "    .dataframe tbody tr th:only-of-type {\n",
       "        vertical-align: middle;\n",
       "    }\n",
       "\n",
       "    .dataframe tbody tr th {\n",
       "        vertical-align: top;\n",
       "    }\n",
       "\n",
       "    .dataframe thead th {\n",
       "        text-align: right;\n",
       "    }\n",
       "</style>\n",
       "<table border=\"1\" class=\"dataframe\">\n",
       "  <thead>\n",
       "    <tr style=\"text-align: right;\">\n",
       "      <th></th>\n",
       "      <th>_id</th>\n",
       "      <th>name</th>\n",
       "      <th>age</th>\n",
       "      <th>sex</th>\n",
       "      <th>lastModifiedAt</th>\n",
       "    </tr>\n",
       "  </thead>\n",
       "  <tbody>\n",
       "    <tr>\n",
       "      <th>0</th>\n",
       "      <td>61bb536d771f7760addc5d1c</td>\n",
       "      <td>user1</td>\n",
       "      <td>32</td>\n",
       "      <td>male</td>\n",
       "      <td>2021-12-16 14:55:41.593</td>\n",
       "    </tr>\n",
       "    <tr>\n",
       "      <th>1</th>\n",
       "      <td>61bb536d771f7760addc5d1d</td>\n",
       "      <td>user2</td>\n",
       "      <td>55</td>\n",
       "      <td>male</td>\n",
       "      <td>NaT</td>\n",
       "    </tr>\n",
       "    <tr>\n",
       "      <th>2</th>\n",
       "      <td>61bb536d771f7760addc5d1e</td>\n",
       "      <td>user3</td>\n",
       "      <td>43</td>\n",
       "      <td>male</td>\n",
       "      <td>NaT</td>\n",
       "    </tr>\n",
       "  </tbody>\n",
       "</table>\n",
       "</div>"
      ],
      "text/plain": [
       "                        _id   name age   sex          lastModifiedAt\n",
       "0  61bb536d771f7760addc5d1c  user1  32  male 2021-12-16 14:55:41.593\n",
       "1  61bb536d771f7760addc5d1d  user2  55  male                     NaT\n",
       "2  61bb536d771f7760addc5d1e  user3  43  male                     NaT"
      ]
     },
     "metadata": {},
     "output_type": "display_data"
    }
   ],
   "source": [
    "show_collection(collection)"
   ]
  },
  {
   "cell_type": "markdown",
   "id": "72afff8a-3ab5-4565-99fa-84ae3e7363da",
   "metadata": {},
   "source": [
    "# Upsert\n",
    "\n",
    "As the name suggests 'upsert' means update/insert records based on the specified filters. For intansce, in the following first example, 'user1' exists in the collection. The 'upsert' performs the update. In the second example, user4 doesn't exist and it is inserted to the collection.\n"
   ]
  },
  {
   "cell_type": "code",
   "execution_count": 10,
   "id": "7632408a-89c2-4722-aa23-13046409684a",
   "metadata": {
    "jp-MarkdownHeadingCollapsed": true,
    "tags": []
   },
   "outputs": [
    {
     "data": {
      "text/html": [
       "<div>\n",
       "<style scoped>\n",
       "    .dataframe tbody tr th:only-of-type {\n",
       "        vertical-align: middle;\n",
       "    }\n",
       "\n",
       "    .dataframe tbody tr th {\n",
       "        vertical-align: top;\n",
       "    }\n",
       "\n",
       "    .dataframe thead th {\n",
       "        text-align: right;\n",
       "    }\n",
       "</style>\n",
       "<table border=\"1\" class=\"dataframe\">\n",
       "  <thead>\n",
       "    <tr style=\"text-align: right;\">\n",
       "      <th></th>\n",
       "      <th>_id</th>\n",
       "      <th>name</th>\n",
       "      <th>age</th>\n",
       "      <th>sex</th>\n",
       "      <th>lastModifiedAt</th>\n",
       "    </tr>\n",
       "  </thead>\n",
       "  <tbody>\n",
       "    <tr>\n",
       "      <th>0</th>\n",
       "      <td>61bb536d771f7760addc5d1c</td>\n",
       "      <td>user1</td>\n",
       "      <td>32</td>\n",
       "      <td>male</td>\n",
       "      <td>2021-12-16 14:55:41.807</td>\n",
       "    </tr>\n",
       "    <tr>\n",
       "      <th>1</th>\n",
       "      <td>61bb536d771f7760addc5d1d</td>\n",
       "      <td>user2</td>\n",
       "      <td>55</td>\n",
       "      <td>male</td>\n",
       "      <td>NaT</td>\n",
       "    </tr>\n",
       "    <tr>\n",
       "      <th>2</th>\n",
       "      <td>61bb536d771f7760addc5d1e</td>\n",
       "      <td>user3</td>\n",
       "      <td>43</td>\n",
       "      <td>male</td>\n",
       "      <td>NaT</td>\n",
       "    </tr>\n",
       "  </tbody>\n",
       "</table>\n",
       "</div>"
      ],
      "text/plain": [
       "                        _id   name  age   sex          lastModifiedAt\n",
       "0  61bb536d771f7760addc5d1c  user1   32  male 2021-12-16 14:55:41.807\n",
       "1  61bb536d771f7760addc5d1d  user2   55  male                     NaT\n",
       "2  61bb536d771f7760addc5d1e  user3   43  male                     NaT"
      ]
     },
     "metadata": {},
     "output_type": "display_data"
    }
   ],
   "source": [
    "collection.update_one({\"name\":\"user1\"}, \n",
    "                      {\"$set\":{\"age\":32},\n",
    "                              \"$currentDate\": \n",
    "                              {\"lastModifiedAt\": { \"$type\": \"date\" }}\n",
    "                      }, \n",
    "                      upsert=True)\n",
    "show_collection(collection)"
   ]
  },
  {
   "cell_type": "code",
   "execution_count": 11,
   "id": "af8f2063-761b-4f94-9c94-08ee25cd00f0",
   "metadata": {},
   "outputs": [
    {
     "data": {
      "text/html": [
       "<div>\n",
       "<style scoped>\n",
       "    .dataframe tbody tr th:only-of-type {\n",
       "        vertical-align: middle;\n",
       "    }\n",
       "\n",
       "    .dataframe tbody tr th {\n",
       "        vertical-align: top;\n",
       "    }\n",
       "\n",
       "    .dataframe thead th {\n",
       "        text-align: right;\n",
       "    }\n",
       "</style>\n",
       "<table border=\"1\" class=\"dataframe\">\n",
       "  <thead>\n",
       "    <tr style=\"text-align: right;\">\n",
       "      <th></th>\n",
       "      <th>_id</th>\n",
       "      <th>name</th>\n",
       "      <th>age</th>\n",
       "      <th>sex</th>\n",
       "      <th>lastModifiedAt</th>\n",
       "    </tr>\n",
       "  </thead>\n",
       "  <tbody>\n",
       "    <tr>\n",
       "      <th>0</th>\n",
       "      <td>61bb536d771f7760addc5d1c</td>\n",
       "      <td>user1</td>\n",
       "      <td>32</td>\n",
       "      <td>male</td>\n",
       "      <td>2021-12-16 14:55:41.807</td>\n",
       "    </tr>\n",
       "    <tr>\n",
       "      <th>1</th>\n",
       "      <td>61bb536d771f7760addc5d1d</td>\n",
       "      <td>user2</td>\n",
       "      <td>55</td>\n",
       "      <td>male</td>\n",
       "      <td>NaT</td>\n",
       "    </tr>\n",
       "    <tr>\n",
       "      <th>2</th>\n",
       "      <td>61bb536d771f7760addc5d1e</td>\n",
       "      <td>user3</td>\n",
       "      <td>43</td>\n",
       "      <td>male</td>\n",
       "      <td>NaT</td>\n",
       "    </tr>\n",
       "    <tr>\n",
       "      <th>3</th>\n",
       "      <td>61bb536eef8c67586582a4ea</td>\n",
       "      <td>user4</td>\n",
       "      <td>32</td>\n",
       "      <td>female</td>\n",
       "      <td>2021-12-16 14:55:42.012</td>\n",
       "    </tr>\n",
       "  </tbody>\n",
       "</table>\n",
       "</div>"
      ],
      "text/plain": [
       "                        _id   name  age     sex          lastModifiedAt\n",
       "0  61bb536d771f7760addc5d1c  user1   32    male 2021-12-16 14:55:41.807\n",
       "1  61bb536d771f7760addc5d1d  user2   55    male                     NaT\n",
       "2  61bb536d771f7760addc5d1e  user3   43    male                     NaT\n",
       "3  61bb536eef8c67586582a4ea  user4   32  female 2021-12-16 14:55:42.012"
      ]
     },
     "metadata": {},
     "output_type": "display_data"
    }
   ],
   "source": [
    "collection.update_one({\"name\":\"user4\"}, \n",
    "                      {\"$set\":{\"age\":32}, \n",
    "                              \"$setOnInsert\":{\"sex\":\"female\"},\n",
    "                              \"$currentDate\":{\"lastModifiedAt\": { \"$type\": \"date\" }}\n",
    "                      }, \n",
    "                      upsert=True)\n",
    "show_collection(collection)"
   ]
  },
  {
   "cell_type": "markdown",
   "id": "d6166a03-9037-43b6-8a51-656664e4c47e",
   "metadata": {
    "tags": []
   },
   "source": [
    "# Bulk updates\n",
    "\n",
    "Obviously it's inefficient if the updates/inserts are performed one by one. To improve this, we firstly collect all the 'UpdateOne' operations and perform the updates with ['bulk_write'](https://docs.mongodb.com/manual/reference/method/db.collection.bulkWrite/) like the following."
   ]
  },
  {
   "cell_type": "code",
   "execution_count": 12,
   "id": "f7c8a213-a554-40b7-8e60-8adac731babe",
   "metadata": {},
   "outputs": [
    {
     "data": {
      "text/html": [
       "<div>\n",
       "<style scoped>\n",
       "    .dataframe tbody tr th:only-of-type {\n",
       "        vertical-align: middle;\n",
       "    }\n",
       "\n",
       "    .dataframe tbody tr th {\n",
       "        vertical-align: top;\n",
       "    }\n",
       "\n",
       "    .dataframe thead th {\n",
       "        text-align: right;\n",
       "    }\n",
       "</style>\n",
       "<table border=\"1\" class=\"dataframe\">\n",
       "  <thead>\n",
       "    <tr style=\"text-align: right;\">\n",
       "      <th></th>\n",
       "      <th>_id</th>\n",
       "      <th>name</th>\n",
       "      <th>age</th>\n",
       "      <th>sex</th>\n",
       "      <th>lastModifiedAt</th>\n",
       "    </tr>\n",
       "  </thead>\n",
       "  <tbody>\n",
       "    <tr>\n",
       "      <th>0</th>\n",
       "      <td>61bb536d771f7760addc5d1c</td>\n",
       "      <td>user1</td>\n",
       "      <td>25</td>\n",
       "      <td>male</td>\n",
       "      <td>2021-12-16 14:55:42.229</td>\n",
       "    </tr>\n",
       "    <tr>\n",
       "      <th>1</th>\n",
       "      <td>61bb536d771f7760addc5d1d</td>\n",
       "      <td>user2</td>\n",
       "      <td>55</td>\n",
       "      <td>male</td>\n",
       "      <td>2021-12-16 14:55:42.230</td>\n",
       "    </tr>\n",
       "    <tr>\n",
       "      <th>2</th>\n",
       "      <td>61bb536d771f7760addc5d1e</td>\n",
       "      <td>user3</td>\n",
       "      <td>43</td>\n",
       "      <td>male</td>\n",
       "      <td>2021-12-16 14:55:42.230</td>\n",
       "    </tr>\n",
       "    <tr>\n",
       "      <th>3</th>\n",
       "      <td>61bb536eef8c67586582a4ea</td>\n",
       "      <td>user4</td>\n",
       "      <td>32</td>\n",
       "      <td>female</td>\n",
       "      <td>2021-12-16 14:55:42.012</td>\n",
       "    </tr>\n",
       "    <tr>\n",
       "      <th>4</th>\n",
       "      <td>61bb536eef8c67586582a4f6</td>\n",
       "      <td>user5</td>\n",
       "      <td>65</td>\n",
       "      <td>male</td>\n",
       "      <td>2021-12-16 14:55:42.230</td>\n",
       "    </tr>\n",
       "  </tbody>\n",
       "</table>\n",
       "</div>"
      ],
      "text/plain": [
       "                        _id   name  age     sex          lastModifiedAt\n",
       "0  61bb536d771f7760addc5d1c  user1   25    male 2021-12-16 14:55:42.229\n",
       "1  61bb536d771f7760addc5d1d  user2   55    male 2021-12-16 14:55:42.230\n",
       "2  61bb536d771f7760addc5d1e  user3   43    male 2021-12-16 14:55:42.230\n",
       "3  61bb536eef8c67586582a4ea  user4   32  female 2021-12-16 14:55:42.012\n",
       "4  61bb536eef8c67586582a4f6  user5   65    male 2021-12-16 14:55:42.230"
      ]
     },
     "metadata": {},
     "output_type": "display_data"
    }
   ],
   "source": [
    "df_emplyee = df_emplyee.append({'name':'user5','age': 65, 'sex':'male'},ignore_index=True)\n",
    "\n",
    "\n",
    "updates = []\n",
    "df_emplyee.apply(\n",
    "    lambda row: updates.append(\n",
    "        UpdateOne(\n",
    "            {\"name\": row.get(\"name\")}, \n",
    "            {\"$set\": row.to_dict(), \n",
    "                     \"$currentDate\":{\"lastModifiedAt\": { \"$type\": \"date\" }}\n",
    "            }, \n",
    "            upsert=True\n",
    "        )),\n",
    "    axis=1)\n",
    "collection.bulk_write(updates)\n",
    "show_collection(collection)"
   ]
  },
  {
   "cell_type": "markdown",
   "id": "5d5c3549-e377-4b1c-ad20-e963872c9c6a",
   "metadata": {},
   "source": [
    "# DataFrame Upsert\n",
    "\n",
    "Back to our initial requirement, we need to perform the 'Upsert' on individual DataFrame row. I created a function df_upsert for this."
   ]
  },
  {
   "cell_type": "code",
   "execution_count": 13,
   "id": "1557c711-a61f-473e-99ff-f9f7b65e079e",
   "metadata": {},
   "outputs": [],
   "source": [
    "def df_upsert(df:DataFrame, collection, keys:[]):\n",
    "    def row_query(row, keys ):\n",
    "        res = {}\n",
    "        for key in keys:\n",
    "            res[key] = row.get(key)\n",
    "        return res\n",
    "    updates = []\n",
    "    df_emplyee.apply(\n",
    "        lambda row: updates.append(\n",
    "            UpdateOne(\n",
    "                row_query(row, keys), \n",
    "                {'$set': row.to_dict(),\n",
    "                    \"$currentDate\":{\"lastModifiedAt\": { \"$type\": \"date\" }}\n",
    "                }, \n",
    "                upsert=True)), \n",
    "            axis=1\n",
    "    )\n",
    "    collection.bulk_write(updates)\n"
   ]
  },
  {
   "cell_type": "markdown",
   "id": "26d4c37e-f3d7-4277-af0b-50ec7ba46c58",
   "metadata": {},
   "source": [
    "Let's do some testing. Some updates are applied to the df_emplyee. Here are the difference between the df_emplyee and the MongoDB collection. As we see, user6 is added and user1's age is changed to 20 from 25. Please note user4 doesn't exist in the df_emplyee, it will not be touched in the collection."
   ]
  },
  {
   "cell_type": "code",
   "execution_count": 14,
   "id": "39b124b9-5ea2-48f7-bfca-374b1a14cf79",
   "metadata": {},
   "outputs": [
    {
     "data": {
      "text/html": [
       "<div>\n",
       "<style scoped>\n",
       "    .dataframe tbody tr th:only-of-type {\n",
       "        vertical-align: middle;\n",
       "    }\n",
       "\n",
       "    .dataframe tbody tr th {\n",
       "        vertical-align: top;\n",
       "    }\n",
       "\n",
       "    .dataframe thead th {\n",
       "        text-align: right;\n",
       "    }\n",
       "</style>\n",
       "<table border=\"1\" class=\"dataframe\">\n",
       "  <thead>\n",
       "    <tr style=\"text-align: right;\">\n",
       "      <th></th>\n",
       "      <th>_id</th>\n",
       "      <th>name</th>\n",
       "      <th>age</th>\n",
       "      <th>sex</th>\n",
       "      <th>lastModifiedAt</th>\n",
       "    </tr>\n",
       "  </thead>\n",
       "  <tbody>\n",
       "    <tr>\n",
       "      <th>0</th>\n",
       "      <td>61bb536d771f7760addc5d1c</td>\n",
       "      <td>user1</td>\n",
       "      <td>25</td>\n",
       "      <td>male</td>\n",
       "      <td>2021-12-16 14:55:42.229</td>\n",
       "    </tr>\n",
       "    <tr>\n",
       "      <th>1</th>\n",
       "      <td>61bb536d771f7760addc5d1d</td>\n",
       "      <td>user2</td>\n",
       "      <td>55</td>\n",
       "      <td>male</td>\n",
       "      <td>2021-12-16 14:55:42.230</td>\n",
       "    </tr>\n",
       "    <tr>\n",
       "      <th>2</th>\n",
       "      <td>61bb536d771f7760addc5d1e</td>\n",
       "      <td>user3</td>\n",
       "      <td>43</td>\n",
       "      <td>male</td>\n",
       "      <td>2021-12-16 14:55:42.230</td>\n",
       "    </tr>\n",
       "    <tr>\n",
       "      <th>3</th>\n",
       "      <td>61bb536eef8c67586582a4ea</td>\n",
       "      <td>user4</td>\n",
       "      <td>32</td>\n",
       "      <td>female</td>\n",
       "      <td>2021-12-16 14:55:42.012</td>\n",
       "    </tr>\n",
       "    <tr>\n",
       "      <th>4</th>\n",
       "      <td>61bb536eef8c67586582a4f6</td>\n",
       "      <td>user5</td>\n",
       "      <td>65</td>\n",
       "      <td>male</td>\n",
       "      <td>2021-12-16 14:55:42.230</td>\n",
       "    </tr>\n",
       "  </tbody>\n",
       "</table>\n",
       "</div>"
      ],
      "text/plain": [
       "                        _id   name  age     sex          lastModifiedAt\n",
       "0  61bb536d771f7760addc5d1c  user1   25    male 2021-12-16 14:55:42.229\n",
       "1  61bb536d771f7760addc5d1d  user2   55    male 2021-12-16 14:55:42.230\n",
       "2  61bb536d771f7760addc5d1e  user3   43    male 2021-12-16 14:55:42.230\n",
       "3  61bb536eef8c67586582a4ea  user4   32  female 2021-12-16 14:55:42.012\n",
       "4  61bb536eef8c67586582a4f6  user5   65    male 2021-12-16 14:55:42.230"
      ]
     },
     "metadata": {},
     "output_type": "display_data"
    },
    {
     "data": {
      "text/html": [
       "<div>\n",
       "<style scoped>\n",
       "    .dataframe tbody tr th:only-of-type {\n",
       "        vertical-align: middle;\n",
       "    }\n",
       "\n",
       "    .dataframe tbody tr th {\n",
       "        vertical-align: top;\n",
       "    }\n",
       "\n",
       "    .dataframe thead th {\n",
       "        text-align: right;\n",
       "    }\n",
       "</style>\n",
       "<table border=\"1\" class=\"dataframe\">\n",
       "  <thead>\n",
       "    <tr style=\"text-align: right;\">\n",
       "      <th></th>\n",
       "      <th>name</th>\n",
       "      <th>age</th>\n",
       "      <th>sex</th>\n",
       "    </tr>\n",
       "  </thead>\n",
       "  <tbody>\n",
       "    <tr>\n",
       "      <th>0</th>\n",
       "      <td>user1</td>\n",
       "      <td>20</td>\n",
       "      <td>male</td>\n",
       "    </tr>\n",
       "    <tr>\n",
       "      <th>1</th>\n",
       "      <td>user2</td>\n",
       "      <td>55</td>\n",
       "      <td>male</td>\n",
       "    </tr>\n",
       "    <tr>\n",
       "      <th>2</th>\n",
       "      <td>user3</td>\n",
       "      <td>43</td>\n",
       "      <td>male</td>\n",
       "    </tr>\n",
       "    <tr>\n",
       "      <th>3</th>\n",
       "      <td>user5</td>\n",
       "      <td>65</td>\n",
       "      <td>male</td>\n",
       "    </tr>\n",
       "    <tr>\n",
       "      <th>4</th>\n",
       "      <td>user6</td>\n",
       "      <td>37</td>\n",
       "      <td>female</td>\n",
       "    </tr>\n",
       "  </tbody>\n",
       "</table>\n",
       "</div>"
      ],
      "text/plain": [
       "    name  age     sex\n",
       "0  user1   20    male\n",
       "1  user2   55    male\n",
       "2  user3   43    male\n",
       "3  user5   65    male\n",
       "4  user6   37  female"
      ]
     },
     "metadata": {},
     "output_type": "display_data"
    }
   ],
   "source": [
    "df_emplyee.loc[0,'age'] = 20\n",
    "df_emplyee = df_emplyee.append({'name':'user6','age': 37, 'sex':'female'},ignore_index=True)\n",
    "\n",
    "show_collection(collection)\n",
    "display(df_emplyee)"
   ]
  },
  {
   "cell_type": "markdown",
   "id": "8d7f3948-e954-4aa4-8723-44bf523fd28d",
   "metadata": {},
   "source": [
    "Once we perform the 'df_upsert', we get the expected results."
   ]
  },
  {
   "cell_type": "code",
   "execution_count": 15,
   "id": "a0a42f74-e517-45c0-a89f-9f1a09c4eab3",
   "metadata": {},
   "outputs": [
    {
     "data": {
      "text/html": [
       "<div>\n",
       "<style scoped>\n",
       "    .dataframe tbody tr th:only-of-type {\n",
       "        vertical-align: middle;\n",
       "    }\n",
       "\n",
       "    .dataframe tbody tr th {\n",
       "        vertical-align: top;\n",
       "    }\n",
       "\n",
       "    .dataframe thead th {\n",
       "        text-align: right;\n",
       "    }\n",
       "</style>\n",
       "<table border=\"1\" class=\"dataframe\">\n",
       "  <thead>\n",
       "    <tr style=\"text-align: right;\">\n",
       "      <th></th>\n",
       "      <th>_id</th>\n",
       "      <th>name</th>\n",
       "      <th>age</th>\n",
       "      <th>sex</th>\n",
       "      <th>lastModifiedAt</th>\n",
       "    </tr>\n",
       "  </thead>\n",
       "  <tbody>\n",
       "    <tr>\n",
       "      <th>0</th>\n",
       "      <td>61bb536d771f7760addc5d1c</td>\n",
       "      <td>user1</td>\n",
       "      <td>20</td>\n",
       "      <td>male</td>\n",
       "      <td>2021-12-16 14:55:42.574</td>\n",
       "    </tr>\n",
       "    <tr>\n",
       "      <th>1</th>\n",
       "      <td>61bb536d771f7760addc5d1d</td>\n",
       "      <td>user2</td>\n",
       "      <td>55</td>\n",
       "      <td>male</td>\n",
       "      <td>2021-12-16 14:55:42.575</td>\n",
       "    </tr>\n",
       "    <tr>\n",
       "      <th>2</th>\n",
       "      <td>61bb536d771f7760addc5d1e</td>\n",
       "      <td>user3</td>\n",
       "      <td>43</td>\n",
       "      <td>male</td>\n",
       "      <td>2021-12-16 14:55:42.575</td>\n",
       "    </tr>\n",
       "    <tr>\n",
       "      <th>3</th>\n",
       "      <td>61bb536eef8c67586582a4ea</td>\n",
       "      <td>user4</td>\n",
       "      <td>32</td>\n",
       "      <td>female</td>\n",
       "      <td>2021-12-16 14:55:42.012</td>\n",
       "    </tr>\n",
       "    <tr>\n",
       "      <th>4</th>\n",
       "      <td>61bb536eef8c67586582a4f6</td>\n",
       "      <td>user5</td>\n",
       "      <td>65</td>\n",
       "      <td>male</td>\n",
       "      <td>2021-12-16 14:55:42.575</td>\n",
       "    </tr>\n",
       "    <tr>\n",
       "      <th>5</th>\n",
       "      <td>61bb536eef8c67586582a51b</td>\n",
       "      <td>user6</td>\n",
       "      <td>37</td>\n",
       "      <td>female</td>\n",
       "      <td>2021-12-16 14:55:42.575</td>\n",
       "    </tr>\n",
       "  </tbody>\n",
       "</table>\n",
       "</div>"
      ],
      "text/plain": [
       "                        _id   name  age     sex          lastModifiedAt\n",
       "0  61bb536d771f7760addc5d1c  user1   20    male 2021-12-16 14:55:42.574\n",
       "1  61bb536d771f7760addc5d1d  user2   55    male 2021-12-16 14:55:42.575\n",
       "2  61bb536d771f7760addc5d1e  user3   43    male 2021-12-16 14:55:42.575\n",
       "3  61bb536eef8c67586582a4ea  user4   32  female 2021-12-16 14:55:42.012\n",
       "4  61bb536eef8c67586582a4f6  user5   65    male 2021-12-16 14:55:42.575\n",
       "5  61bb536eef8c67586582a51b  user6   37  female 2021-12-16 14:55:42.575"
      ]
     },
     "metadata": {},
     "output_type": "display_data"
    }
   ],
   "source": [
    "df_upsert(df_emplyee, collection, ['name'])\n",
    "show_collection(collection)\n"
   ]
  },
  {
   "cell_type": "markdown",
   "id": "4f85d914-97a4-4e6b-8cef-4b7067390836",
   "metadata": {},
   "source": [
    "# Consolution\n",
    "\n",
    "In this post I showed some basic operations of MongoDB through Python and made the function df_upsert. The function df_upsert can be polished further, for instance we can do:\n",
    "- Pass a dictionary of mulitiple rows to the function with collection name as key and DataFrame as the value.\n",
    "- Upate strategy: drop & creation or incremental updates?\n",
    "\n",
    "This is my first blog and thanks for your reading."
   ]
  }
 ],
 "metadata": {
  "kernelspec": {
   "display_name": "Python 3 (ipykernel)",
   "language": "python",
   "name": "python3"
  },
  "language_info": {
   "codemirror_mode": {
    "name": "ipython",
    "version": 3
   },
   "file_extension": ".py",
   "mimetype": "text/x-python",
   "name": "python",
   "nbconvert_exporter": "python",
   "pygments_lexer": "ipython3",
   "version": "3.9.6"
  }
 },
 "nbformat": 4,
 "nbformat_minor": 5
}
