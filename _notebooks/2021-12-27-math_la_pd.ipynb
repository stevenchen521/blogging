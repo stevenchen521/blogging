{
 "cells": [
  {
   "cell_type": "markdown",
   "id": "b9603489-e5dc-4d85-84f3-2425d1441775",
   "metadata": {
    "tags": []
   },
   "source": [
    "# Positive Definiteness\n",
    "> Recently I'm reviewing mathematic basis which I think would be useful for the the machine learning. In this post, I am going to show the summary of positive definity concept in Linar Algebra.\n",
    "\n",
    "- toc: true\n",
    "- comments: true\n",
    "- branch: master\n",
    "- badges: true\n",
    "- categories: [Math]\n",
    "- image: images/la_pd.png\n"
   ]
  },
  {
   "cell_type": "markdown",
   "id": "e679369c-590a-481b-ac89-2197d0ecc56e",
   "metadata": {
    "tags": []
   },
   "source": [
    "# Definition\n",
    "Based on [wikipedia](https://en.wikipedia.org/wiki/Definite_matrix), in mathematics, a symmetric matrix $M$ with real entries is positive-definite if the real number $z^TMz$ is positive for every nonzero real column vector $z$, where $z^T$ is the transpose of $z$\n"
   ]
  },
  {
   "cell_type": "markdown",
   "id": "c8a13cdc-3cdf-464a-abbc-cf4223239c6c",
   "metadata": {
    "tags": []
   },
   "source": [
    "# Geomatric interpretation\n",
    "\n",
    "Suppose we have matrix $M \\in R^{m\\times n}$ and vector $z\\in R^n$. We can transform $z$ by $\\hat{z} = Mz$. After the transformation the direction of $\\hat z$ is changed(excpet if $z$ is the eigenvector of $M$) compared to $z$. The angel between them is within 90 degrees we call the matrix $M$ is the positive definite matrix.\n",
    "\n",
    "![image.png](2021-12-27-math_la_pd_files/la_pd.png)"
   ]
  },
  {
   "cell_type": "markdown",
   "id": "30ed5def-45a7-4c5d-8972-a3e5e73ed6fb",
   "metadata": {
    "tags": []
   },
   "source": [
    "# Proposition\n",
    "\n",
    "Continue with the above definition, some propositions can be extended.\n",
    "\n",
    "## Positive definitive matrix is full rank or invertable\n",
    "\n",
    "Proof: suppose $M$ is not full rank, then its columns are not linearly independent. Therefore, there exists some non-trivial vector $v\\in R^{n\\times 1}$ such that  \n",
    "\n",
    "$Mv = 0$  \n",
    "\n",
    "We multiple the left and right terms by $v^T$, we have  \n",
    "\n",
    "$v^TMv = M\\parallel v \\parallel^2 = 0$  \n",
    "\n",
    "Since $M$ is positive definite matrix, the vector $v$ has to be trivial. This is contradicted to the assumption.\n",
    "\n",
    "\n"
   ]
  },
  {
   "cell_type": "markdown",
   "id": "6947e993-be4e-455b-8a2f-63208e469f2d",
   "metadata": {},
   "source": [
    "## Positive definitive matrix has positive eigenvalues\n",
    "\n",
    "Proof: matrix $M$ is positive definite, then we have \n",
    "\n",
    "$Mz = \\lambda z$  \n",
    "Then,  \n",
    "$z^TMz = \\lambda \\parallel{z}\\parallel^2 > 0$ \n",
    "\n",
    "Therefore, $\\lambda$ which are the eigen values of $M$ have to be positive."
   ]
  },
  {
   "cell_type": "markdown",
   "id": "1185d2a9-f151-4341-b7d9-d7c1786206b3",
   "metadata": {},
   "source": [
    "# Summary\n",
    "\n",
    "In this post I listed a few bullets about the positive definity. I think the definition and the geomatric interpretation are quite useful for the machine learning. In the next posts, I am going to continue the linear algebra topics."
   ]
  },
  {
   "cell_type": "markdown",
   "id": "ac33c63a-1ded-4f3a-a1a5-308f57cc4867",
   "metadata": {},
   "source": [
    "# Reference\n",
    "\n",
    "Sho Nakagome. (2018). [Linear Algebra 101 — Part 8: Positive Definite Matrix](https://medium.com/sho-jp/linear-algebra-101-part-8-positive-definite-matrix-4b0b5acb7e9a)\n",
    "\n",
    "Aerin Kim(2019). [What is a Positive Definite Matrix?](https://towardsdatascience.com/what-is-a-positive-definite-matrix-181e24085abd)\n",
    "\n",
    "Taboga, Marco (2021). [\"Positive definite matrix\", Lectures on matrix algebra.](https://www.statlect.com/matrix-algebra/positive-definite-matrix)"
   ]
  }
 ],
 "metadata": {
  "kernelspec": {
   "display_name": "Python 3 (ipykernel)",
   "language": "python",
   "name": "python3"
  },
  "language_info": {
   "codemirror_mode": {
    "name": "ipython",
    "version": 3
   },
   "file_extension": ".py",
   "mimetype": "text/x-python",
   "name": "python",
   "nbconvert_exporter": "python",
   "pygments_lexer": "ipython3",
   "version": "3.9.9"
  }
 },
 "nbformat": 4,
 "nbformat_minor": 5
}
