{
 "cells": [
  {
   "cell_type": "markdown",
   "id": "b9603489-e5dc-4d85-84f3-2425d1441775",
   "metadata": {
    "tags": []
   },
   "source": [
    "# Properties of Symmetric Matrice\n",
    "> Recently I'm reviewing mathematic basis which I think would be useful for the the machine learning. In this post, I am going to review some important properties of symmetric matrix.\n",
    "\n",
    "- toc: true\n",
    "- comments: true\n",
    "- branch: master\n",
    "- badges: false\n",
    "- categories: [Math]\n",
    "- image: images/la_sym.png\n"
   ]
  },
  {
   "cell_type": "markdown",
   "id": "e679369c-590a-481b-ac89-2197d0ecc56e",
   "metadata": {
    "tags": []
   },
   "source": [
    "# Definition\n",
    "Based on [wikipedia](https://en.wikipedia.org/wiki/Symmetric_matrix), in linear algebra, a symmetric matrix is a square matrix that is equal to its transpose. Formally, $A=A^T$ where $A$ is the matrix. The entries of the symmetric matrix $A$ are symmetric with respect to the main diagonal. More specificallt, suppose $a_{ij}$ denotes the emelent of $A$, then we have $a_{ij}=a_{ji}$.\n",
    "\n",
    "For example the following is a symmetric matrix.\n",
    "\n",
    "\\begin{bmatrix}\n",
    "1 & 7 & 3\\\\7 & 4 & 5\\\\3 & 5 & 0\n",
    "\\end{bmatrix}\n"
   ]
  },
  {
   "cell_type": "markdown",
   "id": "c8a13cdc-3cdf-464a-abbc-cf4223239c6c",
   "metadata": {
    "tags": []
   },
   "source": [
    "# Properties of Symmetric Matrice\n",
    "\n",
    "## 1. Eigenvevtors of the symmetric matrix are orthogonal to each other\n",
    "\n",
    "Suppose we have symmetric matrix $A$ with its eigenvectors $V=[v_1,v_2...v_n]$, we have $v_iv_j^T=\\vec0$ where $i,j\\in [1,n]$  \n",
    "**Proof**: the target is to prove $v_iv_j^T=\\vec0$  \n",
    "\n",
    "\n",
    "1. $Av_1=\\lambda_1v_1$  \n",
    "2. $Av_2=\\lambda_1v_2$  \n",
    "3. $A=A^T$  \n",
    "4. $v_1^TAv_2=v_1^T\\lambda_2v_2=(v_2^T\\lambda_2v_1)^T=(v_2^TAv_1)^T=(v_2^T\\lambda_1v_1)^T$\n",
    "\n",
    "From the equation 4 we have:  \n",
    "$v_2^T\\lambda_1v_1 = v_2^T\\lambda_2v_1$  \n",
    "$(\\lambda_1-\\lambda_2)v_2^Tv_1= \\vec0$\n",
    "\n",
    "There two situations here:\n",
    "- if $\\lambda_1<>\\lambda_2$, $v_2^Tv_1$ has be to zero.\n",
    "- if $\\lambda_1 == \\lambda_2$, since the eigenvectors are in the null space of $(A-\\lambda I)$, when one eigenvector corresponds to multiple eigenvectors, null space $N(A-\\lambda I)$ is not linear independent. In this case, we have infinite many choices for those eigenvectors and we can always choose them to be orthogonal."
   ]
  },
  {
   "cell_type": "markdown",
   "id": "67cdf3c9-7598-47d4-a7fb-e55b879d5ffe",
   "metadata": {},
   "source": [
    "## 2. Symmetric matrice are always diagonalizable if its eigenvalues are distinct\n",
    "\n",
    "Suppose symmetric matrix $A$ has distinct eigenvalues, it is linearly independent or invertable. Then we have $V^{-1}AV = \\Lambda$, where the matrix $V$ contains all the eigenvectors of $A$ and $\\Lambda$ is a diagonal matrix with $A$'s eigenvalues filled in the \n",
    "diagonal.  \n",
    "**Proof**:  \n",
    "1. $AV=V\\Lambda$  \n",
    "2. $V^{-1}AV=V^{-1}V\\Lambda=\\Lambda$, $V$ is invertable because eigenvectors of symmetric are orthogonal to each other.\n"
   ]
  },
  {
   "cell_type": "markdown",
   "id": "1185d2a9-f151-4341-b7d9-d7c1786206b3",
   "metadata": {},
   "source": [
    "# Summary\n",
    "\n",
    "Symetric matrice are important in mahine learning. For instance the covariance matrice is symmetric. In this post I listed some properties of symmetric matric and also gave the proofs."
   ]
  },
  {
   "cell_type": "markdown",
   "id": "ac33c63a-1ded-4f3a-a1a5-308f57cc4867",
   "metadata": {},
   "source": [
    "# Reference\n",
    "\n",
    "Sho Nakagome. (2018). [Linear Algebra — Part 6: eigenvalues and eigenvectors](https://medium.com/sho-jp/linear-algebra-part-6-eigenvalues-and-eigenvectors-35365dc4365a)"
   ]
  }
 ],
 "metadata": {
  "kernelspec": {
   "display_name": "Python 3 (ipykernel)",
   "language": "python",
   "name": "python3"
  },
  "language_info": {
   "codemirror_mode": {
    "name": "ipython",
    "version": 3
   },
   "file_extension": ".py",
   "mimetype": "text/x-python",
   "name": "python",
   "nbconvert_exporter": "python",
   "pygments_lexer": "ipython3",
   "version": "3.9.9"
  }
 },
 "nbformat": 4,
 "nbformat_minor": 5
}
