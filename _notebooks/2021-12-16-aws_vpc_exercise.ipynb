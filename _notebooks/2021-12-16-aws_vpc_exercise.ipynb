{
 "cells": [
  {
   "cell_type": "markdown",
   "id": "b9603489-e5dc-4d85-84f3-2425d1441775",
   "metadata": {
    "tags": []
   },
   "source": [
    "# AWS VPC Exercise\n",
    "\n",
    "> I am recently starting to learn the AWS in this blog I'm gonna share the exercises of [VPC](https://aws.amazon.com/vpc/) I have done. The resource is from the [freeCodeCamp.org](https://www.youtube.com/watch?v=g2JOHLHh4rI) presented by [digitalcloud.training]( https://digitalcloud.training). I encourage you to watch it first.\n",
    "\n",
    "- toc: true\n",
    "- branch: master\n",
    "- badges: true\n",
    "- categories: [AWS]\n",
    "- image: images/aws-vpc.png"
   ]
  },
  {
   "cell_type": "markdown",
   "id": "c8a13cdc-3cdf-464a-abbc-cf4223239c6c",
   "metadata": {},
   "source": [
    "## Prerequisite\n",
    "\n",
    "- Create a free [AWS Account](https://aws.amazon.com/).\n",
    "- Download the [exercise code](https://digitalcloud.training/aws-vpc-deep-dive-download/)\n",
    "- Install AWS Cli and config the [aws configure](https://docs.aws.amazon.com/cli/latest/userguide/cli-chap-configure.html)"
   ]
  }
 ],
 "metadata": {
  "kernelspec": {
   "display_name": "Python 3 (ipykernel)",
   "language": "python",
   "name": "python3"
  },
  "language_info": {
   "codemirror_mode": {
    "name": "ipython",
    "version": 3
   },
   "file_extension": ".py",
   "mimetype": "text/x-python",
   "name": "python",
   "nbconvert_exporter": "python",
   "pygments_lexer": "ipython3",
   "version": "3.9.6"
  }
 },
 "nbformat": 4,
 "nbformat_minor": 5
}
